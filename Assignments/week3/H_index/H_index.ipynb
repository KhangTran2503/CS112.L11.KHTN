{
  "nbformat": 4,
  "nbformat_minor": 0,
  "metadata": {
    "colab": {
      "name": "H_index.ipynb",
      "provenance": [],
      "collapsed_sections": [],
      "authorship_tag": "ABX9TyMkWpiCRZzvwyPmjdGTPeV8",
      "include_colab_link": true
    },
    "kernelspec": {
      "name": "python3",
      "display_name": "Python 3"
    }
  },
  "cells": [
    {
      "cell_type": "markdown",
      "metadata": {
        "id": "view-in-github",
        "colab_type": "text"
      },
      "source": [
        "<a href=\"https://colab.research.google.com/github/PhamLeQuangNhat/CS112.L11.KHTN/blob/master/Assignments/week3/H_index/H_index.ipynb\" target=\"_parent\"><img src=\"https://colab.research.google.com/assets/colab-badge.svg\" alt=\"Open In Colab\"/></a>"
      ]
    },
    {
      "cell_type": "markdown",
      "metadata": {
        "id": "MAVzWgxCIO_Y"
      },
      "source": [
        "**<h1><center>BÀI TẬP TUẦN 3 (24/09)</center></h1>**"
      ]
    },
    {
      "cell_type": "markdown",
      "metadata": {
        "id": "p9DhIbZsInNs"
      },
      "source": [
        "# **Thông tin nhóm: ID: n001**\n",
        "\n",
        "1. Phạm Lê Quang Nhật   - 18520120\n",
        "2. Nguyễn Xuân Dương    - 18520212\n",
        "3. Trần Đình Khang        - 18520072 \t"
      ]
    },
    {
      "cell_type": "markdown",
      "metadata": {
        "id": "yziGicSpIqv6"
      },
      "source": [
        "# **Bài 1. H_index**\n",
        "-----"
      ]
    },
    {
      "cell_type": "markdown",
      "metadata": {
        "id": "nJauooD1I9ww"
      },
      "source": [
        "## **Đề bài**\n",
        "----"
      ]
    },
    {
      "cell_type": "markdown",
      "metadata": {
        "id": "Etrb_xXYn8Mc"
      },
      "source": [
        "Làm thế nào để đánh giá sự thành công của một nhà khoa học?  Dựa vào số bài báo được công bố hay dựa vào số lần một bài báo được trích dẫn tới ở công trình của những người khác? Cả hai tham số đó đều quan trọng.\n",
        "\n",
        "Một bài báo có điểm số trích dẫn là **c** nếu nó được trích dẫn tới **c** lần trong các công trình của những nhà khoa học khác. Một trong số các cách đánh giá sự thành công của một nhà khoa học là tính chỉ số ảnh hưởng **H_Index** dựa trên sự kết hợp giữa số lượng bài báo và chỉ số trích dẫn của các bài báo đó.\n",
        "\n",
        "Chỉ số **H_Index** của một nhà khoa học bằng **k** lớn nhất nếu người đó có **k** bài báo, mỗi bài có điểm số trích dẫn không nhỏ hơn **k**. Ví dụ, một người có 10 bài báo, mỗi bài báo được trích dẫn không dưới 10 lần thì **H_Index** của người đó ít nhất là bằng 10.\n",
        "\n",
        "Một người có **n** bài báo, bài báo thứ **$i$** có điểm trích dẫn là $ci, i = 1 ÷ n$. Hãy xác định **H_Index** của người đó.\n",
        "\n",
        "***Dữ liệu:*** Vào từ thiết bị nhập chuẩn:\n",
        "\n",
        "- Dòng đầu tiên chứa một số nguyên **n**, $(1 ≤ n ≤ 5×105)$\n",
        "- Dòng thứ hai chứa **n** số nguyên $c1, c2, . . ., cn (0 ≤ ci ≤ 106, i = 1 ÷ n)$\n",
        "\n",
        "***Kết quả:*** Đưa ra thiết bị xuất chuẩn một số nguyên – **H_Index** tìm được."
      ]
    },
    {
      "cell_type": "markdown",
      "metadata": {
        "id": "tEl1ZsIdoAd-"
      },
      "source": [
        "## Ví dụ\n",
        "| INPUT | OUTPUT |\n",
        "| - | - |\n",
        "| 5 | 4 |\n",
        "| 8 5 3 4 10 | |"
      ]
    },
    {
      "cell_type": "markdown",
      "metadata": {
        "id": "oBSJD1OYAoL-"
      },
      "source": [
        "## **1. Tóm tắt bài toán**\n",
        "-----"
      ]
    },
    {
      "cell_type": "code",
      "metadata": {
        "id": "Nkijg1slpcwP"
      },
      "source": [
        ""
      ],
      "execution_count": null,
      "outputs": []
    },
    {
      "cell_type": "markdown",
      "metadata": {
        "id": "0C321liNoIm0"
      },
      "source": [
        "Tìm số $k$ lớn nhất sao cho $k$ nhỏ hơn hoặc bằng đúng $k$ con số trong $n$ số nguyên.\n",
        "\n",
        "*Ví dụ* \\\n",
        "Cho 5 số nguyên $[8, 5, 3, 4, 10]$, ta có:\n",
        "\n",
        "    - Nếu k = 1 có 5 con số lớn hơn hoặc bằng 1 (Không thỏa)\n",
        "    - Nếu k = 2 có 5 con số lớn hơn hoặc bằng 2 (Không thỏa)\n",
        "    - Nếu k = 3 có 5 con số lớn hơn hoặc bằng 3 (Không thỏa)\n",
        "    - Nếu k = 4 có 4 con số lớn hơn hoặc bằng 4 (Thỏa)\n",
        "    - Nếu k = 5 có 3 con số lớn hơn hoặc bằng 5 (Không thỏa)\n",
        "=> k = 4"
      ]
    },
    {
      "cell_type": "markdown",
      "metadata": {
        "id": "shIl-5oqopmL"
      },
      "source": [
        "##**2. Nhận diện mẫu**\n",
        "---"
      ]
    },
    {
      "cell_type": "markdown",
      "metadata": {
        "id": "AzZF6xnTsGzs"
      },
      "source": [
        "Gọi dãy $A$ là dãy gồm các phần tử chỉ số lượng trích dẫn của bài báo. Sắp xếp dãy A có giá trị giảm dần. Thực hiện bắt đầu duyệt từ phần tử $A_0$.\n",
        "Tại mỗi vị trí thứ $i$ ta so sánh xem giá trị $A_i$ lớn hơn hoặc bằng giá trị (i+1) hay không.\n",
        "Nếu có thì $k = i + 1$."
      ]
    },
    {
      "cell_type": "markdown",
      "metadata": {
        "id": "dXA60w9gsyb8"
      },
      "source": [
        "##**3. Thiết kế thuật toán**\n",
        "---"
      ]
    },
    {
      "cell_type": "markdown",
      "metadata": {
        "id": "pwgEExgJs5gb"
      },
      "source": [
        "Vì bài này đơn giản nên ta có thể cài đặt ngay"
      ]
    },
    {
      "cell_type": "markdown",
      "metadata": {
        "id": "MwwGcD44s-9m"
      },
      "source": [
        "##**4. Thực thi**\n",
        "--- "
      ]
    },
    {
      "cell_type": "code",
      "metadata": {
        "id": "xY321VX0IOze",
        "outputId": "e623773e-f2e3-4018-b175-b57929690545",
        "colab": {
          "base_uri": "https://localhost:8080/",
          "height": 69
        }
      },
      "source": [
        "n  = int(input())\n",
        "a = list(map(int, input().split()))\n",
        "a.sort(reverse=True)\n",
        "ans  = 0\n",
        "\n",
        "for i in range(n):\n",
        "\tif i + 1 <= a[i]:\n",
        "\t\tans = i + 1\n",
        " \n",
        "print(ans)"
      ],
      "execution_count": 1,
      "outputs": [
        {
          "output_type": "stream",
          "text": [
            "5\n",
            "8 5 3 4 10\n",
            "4\n"
          ],
          "name": "stdout"
        }
      ]
    },
    {
      "cell_type": "markdown",
      "metadata": {
        "id": "aiYzHBxftEsB"
      },
      "source": [
        "##**5. Kết quả trên wecode**\n",
        "--- "
      ]
    },
    {
      "cell_type": "markdown",
      "metadata": {
        "id": "2GDXlnIQuDtd"
      },
      "source": [
        "![picture](https://drive.google.com/uc?export=view&id=1bX5RCgoIeCOvCqmNnld2f0zDHXpvaDjC)"
      ]
    }
  ]
}