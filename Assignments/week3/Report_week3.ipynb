{
  "nbformat": 4,
  "nbformat_minor": 0,
  "metadata": {
    "colab": {
      "name": "Report_week3.ipynb",
      "provenance": [],
      "collapsed_sections": [],
      "toc_visible": true,
      "authorship_tag": "ABX9TyMJGo/4VA75wYboP4fRRv2Q",
      "include_colab_link": true
    },
    "kernelspec": {
      "name": "python3",
      "display_name": "Python 3"
    }
  },
  "cells": [
    {
      "cell_type": "markdown",
      "metadata": {
        "id": "view-in-github",
        "colab_type": "text"
      },
      "source": [
        "<a href=\"https://colab.research.google.com/github/PhamLeQuangNhat/CS112.L11.KHTN/blob/master/Assignments/week3/Report_week3.ipynb\" target=\"_parent\"><img src=\"https://colab.research.google.com/assets/colab-badge.svg\" alt=\"Open In Colab\"/></a>"
      ]
    },
    {
      "cell_type": "markdown",
      "metadata": {
        "id": "MAVzWgxCIO_Y"
      },
      "source": [
        "**<h1><center>BÀI TẬP TUẦN 3 (24/09)</center></h1>**"
      ]
    },
    {
      "cell_type": "markdown",
      "metadata": {
        "id": "p9DhIbZsInNs"
      },
      "source": [
        "# **Thông tin nhóm: ID: n001**\n",
        "\n",
        "1. Phạm Lê Quang Nhật   - 18520120\n",
        "2. Nguyễn Xuân Dương    - 18520212\n",
        "3. Trần Đình Khang        - 18520072 \t"
      ]
    },
    {
      "cell_type": "markdown",
      "metadata": {
        "id": "yziGicSpIqv6"
      },
      "source": [
        "# **Bài 1. H_index**\n",
        "-----"
      ]
    },
    {
      "cell_type": "markdown",
      "metadata": {
        "id": "nJauooD1I9ww"
      },
      "source": [
        "## **Đề bài**\n",
        "----"
      ]
    },
    {
      "cell_type": "markdown",
      "metadata": {
        "id": "Etrb_xXYn8Mc"
      },
      "source": [
        "Làm thế nào để đánh giá sự thành công của một nhà khoa học?  Dựa vào số bài báo được công bố hay dựa vào số lần một bài báo được trích dẫn tới ở công trình của những người khác? Cả hai tham số đó đều quan trọng.\n",
        "\n",
        "Một bài báo có điểm số trích dẫn là **c** nếu nó được trích dẫn tới **c** lần trong các công trình của những nhà khoa học khác. Một trong số các cách đánh giá sự thành công của một nhà khoa học là tính chỉ số ảnh hưởng **H_Index** dựa trên sự kết hợp giữa số lượng bài báo và chỉ số trích dẫn của các bài báo đó.\n",
        "\n",
        "Chỉ số **H_Index** của một nhà khoa học bằng **k** lớn nhất nếu người đó có **k** bài báo, mỗi bài có điểm số trích dẫn không nhỏ hơn **k**. Ví dụ, một người có 10 bài báo, mỗi bài báo được trích dẫn không dưới 10 lần thì **H_Index** của người đó ít nhất là bằng 10.\n",
        "\n",
        "Một người có **n** bài báo, bài báo thứ **$i$** có điểm trích dẫn là $ci, i = 1 ÷ n$. Hãy xác định **H_Index** của người đó.\n",
        "\n",
        "***Dữ liệu:*** Vào từ thiết bị nhập chuẩn:\n",
        "\n",
        "- Dòng đầu tiên chứa một số nguyên **n**, $(1 ≤ n ≤ 5×105)$\n",
        "- Dòng thứ hai chứa **n** số nguyên $c1, c2, . . ., cn (0 ≤ ci ≤ 106, i = 1 ÷ n)$\n",
        "\n",
        "***Kết quả:*** Đưa ra thiết bị xuất chuẩn một số nguyên – **H_Index** tìm được."
      ]
    },
    {
      "cell_type": "markdown",
      "metadata": {
        "id": "tEl1ZsIdoAd-"
      },
      "source": [
        "## Ví dụ\n",
        "| INPUT | OUTPUT |\n",
        "| - | - |\n",
        "| 5 | 4 |\n",
        "| 8 5 3 4 10 | |"
      ]
    },
    {
      "cell_type": "markdown",
      "metadata": {
        "id": "oBSJD1OYAoL-"
      },
      "source": [
        "## **1. Tóm tắt bài toán**\n",
        "-----"
      ]
    },
    {
      "cell_type": "markdown",
      "metadata": {
        "id": "0C321liNoIm0"
      },
      "source": [
        "Tìm số $k$ lớn nhất sao cho $k$ nhỏ hơn hoặc bằng đúng $k$ con số trong $n$ số nguyên.\n",
        "\n",
        "*Ví dụ* \\\n",
        "Cho 5 số nguyên $[8, 5, 3, 4, 10]$, ta có:\n",
        "\n",
        "    - Nếu k = 1 có 5 con số lớn hơn hoặc bằng 1 (Không thỏa)\n",
        "    - Nếu k = 2 có 5 con số lớn hơn hoặc bằng 2 (Không thỏa)\n",
        "    - Nếu k = 3 có 5 con số lớn hơn hoặc bằng 3 (Không thỏa)\n",
        "    - Nếu k = 4 có 4 con số lớn hơn hoặc bằng 4 (Thỏa)\n",
        "    - Nếu k = 5 có 3 con số lớn hơn hoặc bằng 5 (Không thỏa)\n",
        "=> k = 4"
      ]
    },
    {
      "cell_type": "markdown",
      "metadata": {
        "id": "shIl-5oqopmL"
      },
      "source": [
        "##**2. Nhận diện mẫu**\n",
        "---"
      ]
    },
    {
      "cell_type": "markdown",
      "metadata": {
        "id": "AzZF6xnTsGzs"
      },
      "source": [
        "Gọi dãy $A$ là dãy gồm các phần tử chỉ số lượng trích dẫn của bài báo. Sắp xếp dãy A có giá trị giảm dần. Thực hiện bắt đầu duyệt từ phần tử $A_0$.\n",
        "Tại mỗi vị trí thứ $i$ ta so sánh xem giá trị $A_i$ lớn hơn hoặc bằng giá trị (i+1) hay không.\n",
        "Nếu có thì $k = i + 1$."
      ]
    },
    {
      "cell_type": "markdown",
      "metadata": {
        "id": "dXA60w9gsyb8"
      },
      "source": [
        "##**3. Thiết kế thuật toán**\n",
        "---"
      ]
    },
    {
      "cell_type": "markdown",
      "metadata": {
        "id": "pwgEExgJs5gb"
      },
      "source": [
        "Vì bài này đơn giản nên ta có thể cài đặt ngay"
      ]
    },
    {
      "cell_type": "markdown",
      "metadata": {
        "id": "MwwGcD44s-9m"
      },
      "source": [
        "##**4. Thực thi**\n",
        "--- "
      ]
    },
    {
      "cell_type": "code",
      "metadata": {
        "id": "xY321VX0IOze",
        "outputId": "e623773e-f2e3-4018-b175-b57929690545",
        "colab": {
          "base_uri": "https://localhost:8080/",
          "height": 69
        }
      },
      "source": [
        "n  = int(input())\n",
        "a = list(map(int, input().split()))\n",
        "a.sort(reverse=True)\n",
        "ans  = 0\n",
        "\n",
        "for i in range(n):\n",
        "\tif i + 1 <= a[i]:\n",
        "\t\tans = i + 1\n",
        " \n",
        "print(ans)"
      ],
      "execution_count": null,
      "outputs": [
        {
          "output_type": "stream",
          "text": [
            "5\n",
            "8 5 3 4 10\n",
            "4\n"
          ],
          "name": "stdout"
        }
      ]
    },
    {
      "cell_type": "markdown",
      "metadata": {
        "id": "aiYzHBxftEsB"
      },
      "source": [
        "##**5. Kết quả trên wecode**\n",
        "--- "
      ]
    },
    {
      "cell_type": "markdown",
      "metadata": {
        "id": "2GDXlnIQuDtd"
      },
      "source": [
        "![picture](https://drive.google.com/uc?export=view&id=1bX5RCgoIeCOvCqmNnld2f0zDHXpvaDjC)"
      ]
    },
    {
      "cell_type": "markdown",
      "metadata": {
        "id": "69CZP_Mdwhge"
      },
      "source": [
        "# **Bài 2. WaterSupply**\n",
        "-----"
      ]
    },
    {
      "cell_type": "markdown",
      "metadata": {
        "id": "1nuPfzxewvPD"
      },
      "source": [
        "## **Đề bài**\n",
        "----"
      ]
    },
    {
      "cell_type": "markdown",
      "metadata": {
        "id": "ZSB_TlotwpG6"
      },
      "source": [
        "Vùng đất diệu kỳ Wonderland có N hộ gia đình đã được trang bị một hệ thống cung cấp nước sạch đến từng ngôi nhà. Mỗi đường ống nối trực tiếp 2 nhà, nước chảy trong đường ống theo 2 chiều, có thể truyền qua nhiều trung gian trước khi đến một nhà nào đó. Trong hồ sơ lưu trữ, các ngôi nhà được ghi số từ $1$ đến $N$.\n",
        "\n",
        "Một trận động đất đã gây nên sự cố nghiêm trọng làm cho cả vùng bị chia cắt thành nhiều khu vực rời nhau, không còn tiếp cận được với nguồn nước. Để khắc phục, những người có trách nhiệm đã khảo sát hiện trạng và ghi nhận được toàn vùng đất đang thảm họa vẫn còn $M$ đường ống đang hoạt động tốt.\n",
        "\n",
        "Nhiệm vụ đặt ra là phải khôi phục hệ thống cấp nước bằng cách lắp thêm một số đường ống. Tuy nhiên, do hạn chế về thời gian và kinh phí nên đòi hỏi phương án khôi phục phải được thực hiện với ít đường ống được lắp thêm nhất. Câu hỏi đặt ra: cần lắp thêm ít nhất bao nhiêu đường ống để hệ thống cấp nước có thể đưa nước đến từng ngôi nhà. Câu hỏi phụ: có bao nhiêu phương án khác nhau đáp ứng yêu cầu; số phương án có thể khá lớn nên chỉ cần đưa ra số dư khi chia cho $10^9+7$.\n",
        "\n",
        "Dữ liệu: Vào từ thiết bị nhập chuẩn:\n",
        "\n",
        "- Dòng đầu tiên chứa 2 số nguyên $N, M (1 \\le N, M  \\le 10^5)$\n",
        "\n",
        "- Mỗi dòng trong M dòng tiếp theo chứa 2 số nguyên $a, b (1 \\le a,  b \\le N)$. cho biết vẫn còn đường ống nối nhà $a$ với nhà $b$\n",
        "\n",
        "Kết quả: \n",
        "\n",
        "- Đưa ra thiết bị xuất chuẩn số đường ống cần được lắp thêm và số phương án đáp ứng yêu cầu (theo mô đun $10^9+7$) mỗi số trên một dòng.\n",
        "\n",
        "Dữ liệu mẫu:\n",
        "\n",
        "|INPUT     | OUTPUT |\n",
        "|----------|--------|\n",
        "|3 1       |       1|\n",
        "|1 2       |       2|\n",
        "\n",
        " \n",
        "\n",
        "\n",
        "\n"
      ]
    },
    {
      "cell_type": "markdown",
      "metadata": {
        "id": "z27D0E1rw6it"
      },
      "source": [
        "## **1. Tóm tắt bài toán**\n",
        "-----"
      ]
    },
    {
      "cell_type": "markdown",
      "metadata": {
        "id": "5Scrf7khw3mj"
      },
      "source": [
        "Từ bài toán trên, ta có thể nhận thấy rằng ta sử dụng đồ thị để giải quyết bài toán này là một cách hợp lý.   \n",
        "\n",
        "Xét mỗi nhà là một đỉnh, mỗi đường nối là một cạnh. Như vậy thì ta có thể xây dựng một đồ thị. Tuy nhiên sau khi có động đất xảy ra thì đồ thị \n",
        "của chúng ta chỉ còn một vài cạnh (có thể làm cho đồ thị đang là đồ thị liên thông trở thành đồ thị không liên thông). \n",
        "\n",
        "Như vậy bài toán có thể được phát biểu gọn lại thành: Tìm số cách nối các cụm không liên thông trở thành đồ thị liên thông \n",
        "\n",
        "<!-- Đưa bài toán về : Tìm cây khung nhỏ nhất trong lí thuyết đồ thị. -->\n",
        "<img src=\"https://raw.githubusercontent.com/hoangnhancs/CS112.L11.KHTN/master/resources/images/section3_Water_supply_pic1.png\">"
      ]
    },
    {
      "cell_type": "markdown",
      "metadata": {
        "id": "M_Wize1Ew_rt"
      },
      "source": [
        "##**2. Nhận diện mẫu**\n",
        "---"
      ]
    },
    {
      "cell_type": "markdown",
      "metadata": {
        "id": "9GjyHqmixD0B"
      },
      "source": [
        "##**3. Thiết kế thuật toán**\n",
        "---"
      ]
    },
    {
      "cell_type": "markdown",
      "metadata": {
        "id": "ePkZLNfbxHPQ"
      },
      "source": [
        "##**4. Thực thi**\n",
        "--- "
      ]
    },
    {
      "cell_type": "markdown",
      "metadata": {
        "id": "uHABycd6weus"
      },
      "source": [
        "##**5. Kết quả trên wecode**\n",
        "--- "
      ]
    },
    {
      "cell_type": "markdown",
      "metadata": {
        "id": "-mY7jW1-xNkB"
      },
      "source": [
        "![picture](https://drive.google.com/uc?export=view&id=1kpEEXD6KhxkvClQgkKGxRctA9pOON0Xy)"
      ]
    }
  ]
}