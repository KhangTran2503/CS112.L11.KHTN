{
  "nbformat": 4,
  "nbformat_minor": 0,
  "metadata": {
    "colab": {
      "name": "Report_week4.ipynb",
      "provenance": [],
      "collapsed_sections": [],
      "authorship_tag": "ABX9TyM+yV5t/lN6XY1wrXhg88if",
      "include_colab_link": true
    },
    "kernelspec": {
      "name": "python3",
      "display_name": "Python 3"
    }
  },
  "cells": [
    {
      "cell_type": "markdown",
      "metadata": {
        "id": "view-in-github",
        "colab_type": "text"
      },
      "source": [
        "<a href=\"https://colab.research.google.com/github/PhamLeQuangNhat/CS112.L11.KHTN/blob/master/Assignments/week4/Report_week4.ipynb\" target=\"_parent\"><img src=\"https://colab.research.google.com/assets/colab-badge.svg\" alt=\"Open In Colab\"/></a>"
      ]
    },
    {
      "cell_type": "markdown",
      "metadata": {
        "id": "cxsDrfaGFbEe"
      },
      "source": [
        "**<h1><center>BÀI TẬP TUẦN 4 (1/10)</center></h1>**"
      ]
    },
    {
      "cell_type": "markdown",
      "metadata": {
        "id": "On0Nt38bKsiw"
      },
      "source": [
        "# **Thông tin nhóm: ID: n001**\n",
        "\n",
        "1. Phạm Lê Quang Nhật   - 18520120\n",
        "2. Nguyễn Xuân Dương    - 18520212\n",
        "3. Trần Đình Khang        - 18520072 \t"
      ]
    },
    {
      "cell_type": "markdown",
      "metadata": {
        "id": "uJg8F7TbKvEL"
      },
      "source": [
        "# **Bài 1. Doi_moi**\n",
        "-----"
      ]
    },
    {
      "cell_type": "markdown",
      "metadata": {
        "id": "docIKiOnLGa0"
      },
      "source": [
        "## **Đề bài**\n",
        "----"
      ]
    },
    {
      "cell_type": "markdown",
      "metadata": {
        "id": "uEy74i3BK2AP"
      },
      "source": [
        "Thành phố quyết định chặt hạ hết $n$ cây xanh hiện có trong thành phố để trồng chỉ một loại cây mới. Nhiệm vụ được giao cho Công ty Cây xanh thành phố. Do hạn chế về thiết bị Công ty chỉ tổ chức được $2$ đội đốn hạ cây. Đội $I$ hạ được $a$ cây mỗi ngày, nhưng cứ mối ngày thứ $k$ thì phải nghỉ để bảo dưỡng kỹ thuật, tức là đội $I$ sẽ nghỉ vào các ngày $k, 2k, 3k, . . .$ Đội $II$ hạ được $b$ cây mỗi ngày, nhưng cứ mỗi ngày thứ $m$ thì phải nghỉ để bảo dưỡng kỹ thuật, tức là đội $II$ sẽ nghỉ vào các ngày $m, 2m, 3m, . . .$ Ở ngày nghỉ, số cây chặt hạ của đội sẽ là $0$. Cả hai đội bắt đầu công việc vào cùng một ngày và làm việc song song với nhau.\n",
        "\n",
        "Công việc trồng cây mới sẽ bắt đầu sau khi toàn bộ cây cũ đã bị đốn hạ.\n",
        "\n",
        "Hãy xác định sau bao nhiêu ngày thì có thể bắt đầu việc trồng mới cây.\n",
        "\n",
        "Dữ liệu: \n",
        "- Vào từ thiết bị nhập chuẩn gồm một dòng chứa 5 số nguyên $a, k, b, m$ và $n$ $(1 \\le a, b \\le 10^9, 2 \\le k, m \\le 10^{18}, 1 \\le n \\le 10^{18})$.\n",
        "\n",
        "Kết quả: \n",
        "- Đưa ra thiết bị xuất chuẩn một số nguyên – số ngày tính được.\n",
        "\n",
        "|    INPUT    |  OUTPUT  |\n",
        "--------------|-----------\n",
        "|2 4 3 3 25   |7         |\n"
      ]
    },
    {
      "cell_type": "markdown",
      "metadata": {
        "id": "TNDopAYvLDU6"
      },
      "source": [
        "## **1. Tóm tắt bài toán**\n",
        "-----"
      ]
    },
    {
      "cell_type": "markdown",
      "metadata": {
        "id": "B1ToTnGtLZMm"
      },
      "source": [
        "Trước tiên, ta phân tích bài toán một chút. Gọi $x$ là số ngày cần thiết để hoàn thành. Khi đó, số ngày nghỉ của đội $I$ là \n",
        "$int(\\frac{x}{k})$ \n",
        "\n",
        "$\\rightarrow$ số ngày làm là $x-int(\\frac{x}{k})$\n",
        "\n",
        "$\\rightarrow$ sô cây đốn hạ được là $(x-int(\\frac{x}{k}))*a$.\n",
        "\n",
        "Tương tự với đội $II$, ta có số cây đốn hạ được là $(x-int(\\frac{x}{m}))*b$ \n",
        "\n",
        "$\\rightarrow$ tổng số cây đốn hạ là: $x[(1-\\frac{1}{k})a+(1-\\frac{1}{m})*b]\\geq n$\n",
        "\n",
        "$\\rightarrow$ $x\\geq \\frac{n}{(1-\\frac{1}{k})a+(1-\\frac{1}{m})*b}$\n",
        "\n",
        "Vậy, abstraction bài toàn này sẽ là: *Tìm x nhỏ nhất sao cho* $$x\\geq \\frac{n}{(1-\\frac{1}{k})a+(1-\\frac{1}{m})*b}$$\n",
        "\n",
        "### Constrains:\n",
        "$\\begin{align}\n",
        "\\begin{cases}\n",
        "        1 \\le a, b \\le 10^9 \\\\\n",
        "        2 \\le k, m \\le 10^{18}   \\\\\n",
        "        1 \\le n \\le 10^{18} \\\\\n",
        "        a, k, b, m, n \\in \\mathbb{N}\n",
        "    \\end{cases}\n",
        "\\end{align}$\n",
        "\n",
        "\n",
        "*Vì đề yêu cầu số ngày tối thiểu nên ta sẽ lấy giá trị $x$ gần nhất. Nhưng khi ta lập trình, thì khi ta thực hiện phép chia có dư thì sẽ có sai số, nên ta sẽ lùi giá trị $x$ xuống 1 hoặc 2 đơn vị để kiểm tra thêm.*"
      ]
    },
    {
      "cell_type": "markdown",
      "metadata": {
        "id": "yNFhTidGLwZG"
      },
      "source": [
        "##**2. Nhận diện mẫu**\n",
        "---"
      ]
    },
    {
      "cell_type": "markdown",
      "metadata": {
        "id": "ORL2EHxeMXrc"
      },
      "source": [
        "Sử dụng binary search để tìm ra x thoả mãn."
      ]
    },
    {
      "cell_type": "markdown",
      "metadata": {
        "id": "gaK4MOutMg4q"
      },
      "source": [
        "##**3. Thiết kế thuật toán**\n",
        "---"
      ]
    },
    {
      "cell_type": "markdown",
      "metadata": {
        "id": "sYZyxDgIMon6"
      },
      "source": [
        "**Pseudocode:**\n",
        "\n",
        "high = $10^{18}$\n",
        "\n",
        "low = 0\n",
        "\n",
        "res = -1\n",
        "\n",
        "while **high $\\geq$ low**\n",
        "  mid = int($\\frac{high+low}{2}$)\n",
        "  if  a*(mid-int($\\frac{mid}{k}$)) + b*(mid-int$(\\frac{mid}{m})$) \n",
        "\n",
        "while high >= low:\n",
        "    mid = (high+low)//2\n",
        "    if f(mid):\n",
        "        res = mid\n",
        "        high = mid -1\n",
        "    else:\n",
        "        low = mid + 1\n",
        "print(res)    \n"
      ]
    },
    {
      "cell_type": "markdown",
      "metadata": {
        "id": "LCArrCG4M__I"
      },
      "source": [
        "##**4. Thực thi**\n",
        "--- "
      ]
    },
    {
      "cell_type": "code",
      "metadata": {
        "id": "b3Z7NBR9NZpx",
        "outputId": "b4ea4800-bf3b-4c1c-f36b-426c9d092da7",
        "colab": {
          "base_uri": "https://localhost:8080/",
          "height": 52
        }
      },
      "source": [
        "a,k,b,m,n = map(int,input().split())\n",
        "\n",
        "def f(x):\n",
        "\treturn  a*(x-x//k)+b*(x-x//m) >= n\n",
        "res = -1\n",
        "low = 0\n",
        "high = int(1e18)\n",
        "\n",
        "while low <= high:\n",
        "\tmid = (low+high)//2\n",
        "\tif f(mid):\n",
        "\t\tres= mid\n",
        "\t\thigh = mid - 1\n",
        "\telse:\n",
        "\t\tlow = mid + 1\n",
        "print(res)"
      ],
      "execution_count": 1,
      "outputs": [
        {
          "output_type": "stream",
          "text": [
            "2 4 3 3 25\n",
            "7\n"
          ],
          "name": "stdout"
        }
      ]
    },
    {
      "cell_type": "markdown",
      "metadata": {
        "id": "XfxaohPTNmBA"
      },
      "source": [
        "##**5. Kết quả trên wecode**\n",
        "--- "
      ]
    },
    {
      "cell_type": "markdown",
      "metadata": {
        "id": "1wkH0rtuPPiP"
      },
      "source": [
        "![picture](https://drive.google.com/uc?export=view&id=1kEqE8sBCEN7YUMM9xEa9ZM5K6zFczOSS)"
      ]
    },
    {
      "cell_type": "markdown",
      "metadata": {
        "id": "FWUuU0sfNrhl"
      },
      "source": [
        "# **Bài 2. TÁI CẤU TRÚC**\n",
        "-----"
      ]
    },
    {
      "cell_type": "markdown",
      "metadata": {
        "id": "m1PgDFteN3nT"
      },
      "source": [
        "## **Đề bài**\n",
        "----"
      ]
    },
    {
      "cell_type": "markdown",
      "metadata": {
        "id": "F3b-elK8N9CK"
      },
      "source": [
        "Sau thời gian làm việc tại nhà (work from home) do tình hình dịch bệnh, công ty $X$ nhận thấy đây là cơ hội để thay đổi mô hình làm việc của công ty để hướng tới tính đơn giản, hiệu quả cao hơn trong công việc. Cụ thể, công ty hiện tại gồm $n$ nhân viên. Có $m$ quan hệ dạng $(a_i, b_i)$ trong đó người $b_i$ nhận công việc từ người $a_i$ và $a_i$ chỉ đạo cho $b_i$. Mỗi nhân viên khi nhận việc có thể phân công cho những nhân viên do mình chỉ đạo. Nếu công viêc từ $a$ có thể tới được $b$, ta gọi $a$ là cấp trên của $b$ và $b$ là cấp dưới của $a$.\n",
        "\n",
        "Sau khi họp đại hội cổ đông trực tuyến, công ty $X$ quyết định thực hiện tái cấu trúc như sau:\n",
        "\n",
        "Thứ nhất, chọn ra một giám đốc, người này phải là người không có cấp trên và công việc mà người này phân công có thể tới được mọi người trong công ty;\n",
        "Những người còn lại, mỗi người sẽ chỉ còn nhận việc trực tiếp từ đúng $1$ người. Để tránh xáo trộn trong hoạt động sau khi thực hiện thay đổi, với mỗi người, tập những người là cấp trên của người đó phải không thay đổi (so với trước khi thực hiện tái cấu trúc).\n",
        "Yêu cầu: Xác định công ty $X$ có thể tái cấu trúc hay không, nếu không được - đưa ra thông báo *“No”*. Trong trường hợp có thể – đưa ra thông báo *“Yes”* và chỉ ra dãy số $p_i$ xác định người có quyền phân công công việc cho người $i (1 \\le i \\le n)$. Với Giám đốc $p_i$ tương ứng có giá trị là $-1$.\n",
        "\n",
        "Dữ liệu: Vào từ file thiết bị nhập chuẩn:\n",
        "\n",
        "- Dòng đầu tiên chứa 2 số nguyên $n$ và $m$ $(1 \\le n, m \\le 5*10^5)$\n",
        "- Dòng thứ i trong m dòng sau chứa 2 số nguyên $a_i$ và $b_i$ $(1 \\le ai, bi \\le n, ai \\neq bi)$\n",
        "\n",
        "Kết quả: \n",
        "- Đưa ra thiết bị xuất chuẩn thông báo *“No”* hoặc *“Yes”*. Nếu kết quả là *“Yes”* – trên dòng thứ *2* đưa ra *n* số nguyên $p_1, p_2, . . ., p_n$ tương ứng.\n",
        "\n",
        "### Ví dụ:\n",
        "\n",
        "|  INPUT  |  OUTPUT  |\n",
        "|---------|----------|\n",
        "|3 3      |Yes       |\n",
        "|1 2      |-1 1 2    |\n",
        "|2 3      |          |\n",
        "|1 3      |          |\n",
        "|<hr>     |<hr>      |\n",
        "|4 4      |No        |\n",
        "|1 2      |          |\n",
        "|1 3      |          |\n",
        "|2 4      |          |\n",
        "|3 4      |          |"
      ]
    },
    {
      "cell_type": "markdown",
      "metadata": {
        "id": "mmHKRfGROHTj"
      },
      "source": [
        "## **1. Tóm tắt bài toán**\n",
        "-----"
      ]
    },
    {
      "cell_type": "markdown",
      "metadata": {
        "id": "loIoR5iuOKe6"
      },
      "source": [
        "##**2. Nhận diện mẫu**\n",
        "---"
      ]
    },
    {
      "cell_type": "markdown",
      "metadata": {
        "id": "TqAjcnt0OPiY"
      },
      "source": [
        "##**3. Thiết kế thuật toán**\n",
        "---"
      ]
    },
    {
      "cell_type": "markdown",
      "metadata": {
        "id": "dpvMVKG4OTEI"
      },
      "source": [
        "##**4. Thực thi**\n",
        "--- "
      ]
    },
    {
      "cell_type": "markdown",
      "metadata": {
        "id": "PpBijnl6OT-b"
      },
      "source": [
        "##**5. Kết quả trên wecode**\n",
        "--- "
      ]
    }
  ]
}