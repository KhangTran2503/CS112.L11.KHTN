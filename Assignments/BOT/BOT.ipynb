{
 "cells": [
  {
   "cell_type": "markdown",
   "metadata": {},
   "source": [
    "## **Problem:** [BOT](https://drive.google.com/file/d/1lYqXIkDd0WzTRQRMtcmXmYitj5PC9VN5/view)\n",
    "\n",
    "## **Tóm Tắt:** \n",
    "Tìm $p,q \\text{ }(1 \\le p \\le q \\le n)$ và $\\sum_{i=p}^{q}a_{i}$ sao cho $\\sum_{i=p}^{q}a_{i}$ lớn nhất. Nếu có nhiều cách chọn thì chọn $p$ nhỏ nhất.\n",
    "\n",
    "## **Ràng buộc:** \n",
    "- $1 \\le n \\le 10^{6}$ .\n",
    "- $0 \\le \\left\\lvert a_{i}\\right\\rvert \\le 10^{9},\\text{ } 1 \\le i \\le n$ ."
   ]
  },
  {
   "cell_type": "markdown",
   "metadata": {},
   "source": [
    "## **1. Thuật Toán $O(n^{3})$ :** (Trivial)\n",
    "\n",
    "### **+ Ý Tưởng:** \n",
    "\n",
    "> - Với mỗi cặp số $p$, $q$ ($1 \\le p \\le q \\le n$). Ta tính $sumpq = \\sum_{i=p}^{q}a_{i}$, bằng cách duyệt lần \n",
    "lượt các số từ $a_{p}$ đến $a_{q}$.\n",
    "> \n",
    "> - Sau đó cập nhật $(p,q,MaxSum)$ nếu $sumpq \\lt MaxSum$.\n"
   ]
  },
  {
   "cell_type": "markdown",
   "metadata": {},
   "source": [
    "### **+ PseudoCode:**"
   ]
  },
  {
   "cell_type": "code",
   "execution_count": 21,
   "metadata": {},
   "outputs": [],
   "source": [
    "'''\n",
    "    Function Maxsubarray(arr,n) return tuple (p,q,Maxsum)\n",
    "'''\n",
    "\n",
    "inf = 10000000000000000000\n",
    "def Maxsubarray(arr,n):\n",
    "    # init Maxn \n",
    "    global inf\n",
    "    Maxsum = inf\n",
    "    \n",
    "    for p in range(1,n + 1):\n",
    "        for q in range(p,n + 1):\n",
    "            # sum range in [p,q] \n",
    "            sumpq = 0\n",
    "            for k in range(p,q + 1):\n",
    "                sumpq += arr[k]\n",
    "            \n",
    "            # Update answer\n",
    "            if sumpq > Maxsum:\n",
    "                (ansp,ansq,Maxsum) = (p,q,sumpq)\n",
    "            # Choose minimun p if sumpq = Maxsum    \n",
    "            elif sumpq == Maxsum:\n",
    "                if p < ansp:\n",
    "                    ansp = p\n",
    "                    ansq = q\n",
    "    \n",
    "    return (ansp,ansq,Maxsum)\n"
   ]
  },
  {
   "cell_type": "markdown",
   "metadata": {},
   "source": [
    "#### **1. Input:**"
   ]
  },
  {
   "cell_type": "code",
   "execution_count": 23,
   "metadata": {},
   "outputs": [
    {
     "name": "stdout",
     "output_type": "stream",
     "text": [
      "16\n",
      "2 -4 5 -8 4 -1 -1 1 1 1 -2 2 4 -6 9 -4\n",
      "[0, 2, -4, 5, -8, 4, -1, -1, 1, 1, 1, -2, 2, 4, -6, 9, -4]\n"
     ]
    }
   ],
   "source": [
    "# Input\n",
    "n = int(input())\n",
    "a = list(map(int,input().split()))\n",
    "a = [0] + a\n",
    "print(a)\n"
   ]
  },
  {
   "cell_type": "markdown",
   "metadata": {},
   "source": [
    "#### **2. Output:**"
   ]
  },
  {
   "cell_type": "code",
   "execution_count": 11,
   "metadata": {},
   "outputs": [
    {
     "name": "stdout",
     "output_type": "stream",
     "text": [
      "5 15 12 "
     ]
    }
   ],
   "source": [
    "p,q,maxsum = Maxsubarray(a,n)\n",
    "\n",
    "print(p,q,maxsum,end=' ')"
   ]
  },
  {
   "cell_type": "markdown",
   "metadata": {},
   "source": [
    "## **2. Thuật Toán $O(n^{2})$ :**\n",
    "\n",
    "### **+ Ý Tưởng:**\n",
    "\n",
    "> - **Sử dụng kĩ thuật Prefix Sum:** \n",
    ">\n",
    ">    - Đặt Prefix_Sum(p) = $\\sum_{i = 1}^{p}a_{i}$.\n",
    ">\n",
    ">    - Prefix_Sum(0) = 0.\n",
    ">    \n",
    ">    - Khi đó: $\\sum_{i = p}^{q}a_{i}$ = Prefix_Sum(q) - Prefix_Sum(p - 1).\n",
    ">\n",
    "> - Cách làm tương tự như giải thuật $O(n^{3})$, thay vì việc tính $\\sum_{i=p}^{p}a_{i}$ bằng cách duyệt tuần tự, thì sử dụng kĩ thuật Prefix Sum với độ phức tạp $O(1)$.   "
   ]
  },
  {
   "cell_type": "markdown",
   "metadata": {},
   "source": [
    "### **+ PseudoCode:**"
   ]
  },
  {
   "cell_type": "code",
   "execution_count": 3,
   "metadata": {},
   "outputs": [],
   "source": [
    "'''\n",
    "    Function Maxsubarray2(arr,n) return tuple (p,q,Maxsum)\n",
    "'''\n",
    "inf = 10000000000000000000\n",
    "def Maxsubarray2(arr,n):\n",
    "    \n",
    "    # Create prefix_sum len n\n",
    "    prefix_sum = [0]*(n + 1)\n",
    "    for i in range(1,n + 1):\n",
    "        prefix_sum[i] = prefix_sum[i - 1] + arr[i]\n",
    "    \n",
    "    \n",
    "    # init Maxn = -inf\n",
    "    global inf\n",
    "    Maxsum = -inf\n",
    "    \n",
    "    for p in range(1,n + 1):\n",
    "        for q in range(p,n + 1):\n",
    "            # sum range in [p,q] , using prefix_sum\n",
    "            sumpq = prefix_sum[q] - prefix_sum[p - 1]\n",
    "            \n",
    "            # Update answer\n",
    "            if sumpq > Maxsum:\n",
    "                (ansp,ansq,Maxsum) = (p,q,sumpq)\n",
    "            elif sumpq == Maxsum:\n",
    "                if p < ansp:\n",
    "                    ansp = p\n",
    "                    ansq = q\n",
    "    \n",
    "    return (ansp,ansq,Maxsum)"
   ]
  },
  {
   "cell_type": "markdown",
   "metadata": {},
   "source": [
    "#### **1. Input:**"
   ]
  },
  {
   "cell_type": "code",
   "execution_count": 1,
   "metadata": {},
   "outputs": [
    {
     "name": "stdout",
     "output_type": "stream",
     "text": [
      "16\n",
      "2 -4 5 -8 4 -1 -1 1 1 1 -2 2 4 -6 9 -4\n",
      "[0, 2, -4, 5, -8, 4, -1, -1, 1, 1, 1, -2, 2, 4, -6, 9, -4]\n"
     ]
    }
   ],
   "source": [
    "# Input\n",
    "n = int(input())\n",
    "a = list(map(int,input().split()))\n",
    "a = [0] + a\n",
    "print(a)\n"
   ]
  },
  {
   "cell_type": "markdown",
   "metadata": {},
   "source": [
    "#### **2. Output**"
   ]
  },
  {
   "cell_type": "code",
   "execution_count": 4,
   "metadata": {},
   "outputs": [
    {
     "name": "stdout",
     "output_type": "stream",
     "text": [
      "5 15 12 "
     ]
    }
   ],
   "source": [
    "p,q,maxsum = Maxsubarray2(a,n)\n",
    "\n",
    "print(p,q,maxsum,end=' ')"
   ]
  },
  {
   "cell_type": "markdown",
   "metadata": {},
   "source": [
    "## **3. Thuật Toán $O(n)$ :**\n",
    "\n",
    "### **+ Ý Tưởng:**\n",
    "\n",
    "> \n",
    ">"
   ]
  },
  {
   "cell_type": "markdown",
   "metadata": {},
   "source": [
    "### **+ PseudoCode:**"
   ]
  },
  {
   "cell_type": "code",
   "execution_count": 8,
   "metadata": {},
   "outputs": [],
   "source": [
    "'''\n",
    "    Function Maxsubarray3(arr,n) return tuple (p,q,Maxsum)\n",
    "'''\n",
    "inf = 10000000000000000000\n",
    "def Maxsubarray3(arr,n):\n",
    "    \n",
    "    # Create prefix_sum len n\n",
    "    prefix_sum = [0]*(n + 1)\n",
    "    for i in range(1,n + 1):\n",
    "        prefix_sum[i] = prefix_sum[i - 1] + arr[i]\n",
    "    \n",
    "    '''\n",
    "        Create min_idx[i] = min_idx[i - 1] , if prefix_sum[min_idx[i - 1]] <= prefix_sum[i]\n",
    "               min_idx[i] = i                otherwise.\n",
    "        \n",
    "        init: min_idx[0] = 0\n",
    "    '''\n",
    "    min_idx = [0]*(n + 1)\n",
    "    for i in range(1,n + 1):\n",
    "        if prefix_sum[min_idx[i - 1]] <= prefix_sum[i]:\n",
    "            min_idx[i] = min_idx[i - 1]\n",
    "        else: \n",
    "            min_idx[i] = i\n",
    "    \n",
    "    \n",
    "    # init Maxn = -inf\n",
    "    global inf\n",
    "    Maxsum = -inf\n",
    "    \n",
    "    for q in range(1,n + 1):\n",
    "        p = min_idx[q - 1] + 1\n",
    "        \n",
    "        # For each q, sumpq is maximal \n",
    "        sumpq = prefix_sum[q] - prefix_sum[p - 1]\n",
    "            \n",
    "        # Update answer\n",
    "        if sumpq > Maxsum:\n",
    "            (ansp,ansq,Maxsum) = (p,q,sumpq)\n",
    "        elif sumpq == Maxsum:\n",
    "            if p < ansp:\n",
    "                ansp = p\n",
    "                ansq = q\n",
    "    \n",
    "    return (ansp,ansq,Maxsum)"
   ]
  },
  {
   "cell_type": "markdown",
   "metadata": {},
   "source": [
    "#### **1. Input:**"
   ]
  },
  {
   "cell_type": "code",
   "execution_count": 6,
   "metadata": {},
   "outputs": [
    {
     "name": "stdout",
     "output_type": "stream",
     "text": [
      "16\n",
      "2 -4 5 -8 4 -1 -1 1 1 1 -2 2 4 -6 9 -4\n",
      "[0, 2, -4, 5, -8, 4, -1, -1, 1, 1, 1, -2, 2, 4, -6, 9, -4]\n"
     ]
    }
   ],
   "source": [
    "# Input\n",
    "n = int(input())\n",
    "a = list(map(int,input().split()))\n",
    "a = [0] + a\n",
    "print(a)\n"
   ]
  },
  {
   "cell_type": "markdown",
   "metadata": {},
   "source": [
    "**2. Output:**"
   ]
  },
  {
   "cell_type": "code",
   "execution_count": 7,
   "metadata": {},
   "outputs": [
    {
     "name": "stdout",
     "output_type": "stream",
     "text": [
      "5 15 12 "
     ]
    }
   ],
   "source": [
    "p,q,maxsum = Maxsubarray3(a,n)\n",
    "\n",
    "print(p,q,maxsum,end=' ')"
   ]
  }
 ],
 "metadata": {
  "kernelspec": {
   "display_name": "Python 3",
   "language": "python",
   "name": "python3"
  },
  "language_info": {
   "codemirror_mode": {
    "name": "ipython",
    "version": 3
   },
   "file_extension": ".py",
   "mimetype": "text/x-python",
   "name": "python",
   "nbconvert_exporter": "python",
   "pygments_lexer": "ipython3",
   "version": "3.6.9"
  }
 },
 "nbformat": 4,
 "nbformat_minor": 4
}
