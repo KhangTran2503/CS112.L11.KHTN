{
  "nbformat": 4,
  "nbformat_minor": 0,
  "metadata": {
    "colab": {
      "name": "Report_week8.ipynb",
      "provenance": [],
      "collapsed_sections": [],
      "authorship_tag": "ABX9TyP8mc+AMKf8Uc3PVamNEQ+8",
      "include_colab_link": true
    },
    "kernelspec": {
      "name": "python3",
      "display_name": "Python 3"
    }
  },
  "cells": [
    {
      "cell_type": "markdown",
      "metadata": {
        "id": "view-in-github",
        "colab_type": "text"
      },
      "source": [
        "<a href=\"https://colab.research.google.com/github/PhamLeQuangNhat/CS112.L11.KHTN/blob/master/Assignments/week8/Report_week8.ipynb\" target=\"_parent\"><img src=\"https://colab.research.google.com/assets/colab-badge.svg\" alt=\"Open In Colab\"/></a>"
      ]
    },
    {
      "cell_type": "markdown",
      "metadata": {
        "id": "4qPoWTEAoWA1"
      },
      "source": [
        "**<h1><center>BÀI TẬP TUẦN 8 </center></h1>**"
      ]
    },
    {
      "cell_type": "markdown",
      "metadata": {
        "id": "JWXDMr53oViu"
      },
      "source": [
        "# **Thông tin nhóm: ID: n001**\n",
        "\n",
        "1. Phạm Lê Quang Nhật   - 18520120\n",
        "2. Nguyễn Xuân Dương    - 18520212\n",
        "3. Trần Đình Khang        - 18520072 \t"
      ]
    },
    {
      "cell_type": "markdown",
      "metadata": {
        "id": "tsdnSMFuobYG"
      },
      "source": [
        "# **Bài 1. Phân số**\n",
        "-----"
      ]
    },
    {
      "cell_type": "markdown",
      "metadata": {
        "id": "njqIiJcnisTe"
      },
      "source": [
        "## **Đề bài**\n",
        "----"
      ]
    },
    {
      "cell_type": "markdown",
      "metadata": {
        "id": "1Sh_LqPUo8jD"
      },
      "source": [
        "\n",
        "> Cho 2 phân số đúng và tối giản $a/b$ , $c/d$  . Mỗi phép biến đổi là tăng **a** và **b** lên 1, sau đó giản ước phân số nhận được.\n",
        "\n",
        "> Hãy xác định sau bao nhiêu bước biến đổi từ phân số thứ nhất ban đầu nhận được phân số thứ 2 đã cho.\n",
        "\n",
        "**Dữ liệu:** \n",
        "\n",
        "> Vào từ thiết bị nhập chuẩn gồm 4 dòng, mỗi dòng chứa 1 số nguyên **a, b, c, d**, <br>0 < **a** < **b** ≤105, 0 < **c** < **d** ≤ 105, **a** và **b** nguyên tố cùng nhau, **c** và **d** nguyên tố cùng nhau $a/b$ ≠$c/d$ \n",
        "\n",
        "**Kết quả:** \n",
        "\n",
        "> Đưa ra thiết bị xuất chuẩn số 0 nếu không có cách biến đổi hoặc một số nguyên – số lượng phép biến đổi.\n",
        "\n",
        "**Dữ liệu mẫu**:\n",
        "\n",
        "\\begin{array}{|c|c|}\n",
        "Input&Output\\\\ \\hline\n",
        "1\\;6\\;2\\;3\\ & 5\n",
        "\\end{array}\n"
      ]
    },
    {
      "cell_type": "markdown",
      "metadata": {
        "id": "ClWpUFtWi0Iq"
      },
      "source": [
        "## **1. Tóm tắt bài toán**\n",
        "-----"
      ]
    },
    {
      "cell_type": "markdown",
      "metadata": {
        "id": "nznhZAj2pHUd"
      },
      "source": [
        "Cho 2 phân số tối giản $a/b$ và $c/d$, mỗi bước tăng **a** và **b** thêm 1 đơn vị rồi tối giản phân số nhận được. Tìm số bước biến đổi để từ phân số a/b được phân số c/d"
      ]
    },
    {
      "cell_type": "markdown",
      "metadata": {
        "id": "Si_Zb1mejE9Q"
      },
      "source": [
        "## **2. Nhận diện khuôn mẫu**\n",
        "-----"
      ]
    },
    {
      "cell_type": "markdown",
      "metadata": {
        "id": "FHCeoVR8pOcx"
      },
      "source": [
        "Bài toán này ta sẽ tiếp cận một cách đơn giản:\n",
        "> Cứ biến đổi tới khi nào nhận được phân số lớn hơn hoặc bằng phân số thứ hai thì dừng."
      ]
    },
    {
      "cell_type": "markdown",
      "metadata": {
        "id": "AMvKjzn_jpAT"
      },
      "source": [
        "## **3. Thiết kế thuật toán**\n",
        "-----"
      ]
    },
    {
      "cell_type": "markdown",
      "metadata": {
        "id": "Btz5cPHMiwdm"
      },
      "source": [
        "- Thuật toán có độ phức tạp là O(a*b)"
      ]
    },
    {
      "cell_type": "markdown",
      "metadata": {
        "id": "6vu09fnLg5UY"
      },
      "source": [
        "```pseudo\n",
        "\n",
        "if a*b < b*c:\n",
        "    cnt = 0\n",
        "    While a*d <= b*c:\n",
        "        g = ucln(a + 1, b + 1)\n",
        "        a = a//g\n",
        "        b = b//g\n",
        "        cnt += 1\n",
        "        if a == c and b == d:\n",
        "            print(cnt)\n",
        "            quit()\n",
        "else:\n",
        "    print(0)\n",
        "   "
      ]
    },
    {
      "cell_type": "markdown",
      "metadata": {
        "id": "WbOIB3DbjtrX"
      },
      "source": [
        "## **4. Thực hiện**\n",
        "-----"
      ]
    },
    {
      "cell_type": "code",
      "metadata": {
        "colab": {
          "base_uri": "https://localhost:8080/"
        },
        "id": "hkGfycFxpikU",
        "outputId": "95bbacef-f76a-4343-fd44-7e8ae6840e7e"
      },
      "source": [
        "from math import gcd\n",
        "a = int(input())\n",
        "b = int(input())\n",
        "c = int(input())\n",
        "d = int(input())\n",
        "\n",
        "if a*d < b*c:\n",
        "    cnt = 0\n",
        "    while (a*d <= b*c):\n",
        "        g = gcd(a + 1,b + 1)\n",
        "        a = (a + 1)//g\n",
        "        b = (b + 1)//g\n",
        "        cnt += 1\n",
        "        if (a == c and b == d):\n",
        "            print(cnt)\n",
        "            quit()\n",
        "else:\n",
        "    print(0)"
      ],
      "execution_count": null,
      "outputs": [
        {
          "output_type": "stream",
          "text": [
            "1\n",
            "6\n",
            "2\n",
            "3\n",
            "5\n"
          ],
          "name": "stdout"
        }
      ]
    },
    {
      "cell_type": "markdown",
      "metadata": {
        "id": "BDnhk0lgjzr5"
      },
      "source": [
        "## **5. Submit Wecode**\n",
        "-----"
      ]
    },
    {
      "cell_type": "markdown",
      "metadata": {
        "id": "NFYmwj6vre-5"
      },
      "source": [
        "![picture](https://drive.google.com/uc?export=view&id=1ngKPoiIUcyBMuJmqboMK15cALqi4wKKT)"
      ]
    },
    {
      "cell_type": "markdown",
      "metadata": {
        "id": "67oSVzOij5rt"
      },
      "source": [
        "# **Bài 2. Xâu con tương đương**\n",
        "-----"
      ]
    },
    {
      "cell_type": "markdown",
      "metadata": {
        "id": "n4iSGURdomfi"
      },
      "source": [
        "## **Đề bài**\n",
        "----"
      ]
    },
    {
      "cell_type": "markdown",
      "metadata": {
        "id": "gVaJpZelqWj8"
      },
      "source": [
        "> Cho xâu **s** chỉ chứa các ký tự la tinh thường độ dài **n** không quá $10^5$. Ký hiệu $s[i..j]$ là xâu con các ký tự liên tiếp nhau của **s** từ vị trí **i** đến vị trí **j**. Hai xâu con **x** = $s[a..b]$ và **y** = $s[c..d]$ được gọi là cùng một lớp tương đương nếu có cách đổi chỗ các ký tự trong một xâu để nhận được xâu kia. Các vị trí được đánh số từ 1 trở đi.\n",
        "\n",
        "> Ví dụ với **s** = “abcbacaac”, $s[1..3]$ tương đương với $s[4..6]$, còn $s[1..3]$ không tương đương với $s[5..7]$.\n",
        "\n",
        "> Cho **q** truy vấn, mỗi truy vấn là 4 số nguyên **a, b, c, d** xác định các xâu con **x** và **y**. Với mỗi truy vấn hãy xác định hai xâu con này có cùng một lớp tương đương hay không và đưa ra câu trả lời tương ứng _“YES”_ hoặc _“NO”_.\n",
        "\n",
        "**Dữ liệu:** \n",
        "\n",
        "> Vào từ thiết bị nhập chuẩn:\n",
        "\n",
        ">> - Dòng đầu tiên chứa xâu **s**,\n",
        "\n",
        ">> - Dòng thứ 2 chứa số nguyên **q** (1 ≤  **q**  ≤ $10^5$),\n",
        "\n",
        ">> - Mỗi dòng trong **q** dòng tiếp theo chứa 4 số nguyên **a, b, c, d** (1 ≤ **a** ≤ **b** ≤ **n**, 1 ≤ **c** ≤ **d** ≤ **n**).\n",
        "\n",
        "**Kết quả:** \n",
        "\n",
        ">  Đưa ra thiết bị xuất chuẩn các câu trả lời xác định được cho mỗi truy vấn, mỗi câu trả lời trên một dòng.\n",
        "\n",
        "**Dữ liệu mẫu**:\n",
        "\n",
        "\\begin{array}{|c|c|}\n",
        "Input&Output\\\\ \\hline\n",
        "abcbacaac & YES\\\\\n",
        "2 & NO\\\\\n",
        "1\\;3\\;4\\;6 & \\\\\n",
        "1\\;3\\;5\\;7 & \\\\\n",
        "\\end{array}\n"
      ]
    },
    {
      "cell_type": "markdown",
      "metadata": {
        "id": "QELU5D8EopUN"
      },
      "source": [
        "## **1. Tóm tắt bài toán**\n",
        "-----"
      ]
    },
    {
      "cell_type": "markdown",
      "metadata": {
        "id": "QEcE0WKxqehh"
      },
      "source": [
        "Cho sâu **s** và **q** truy vấn, trong đó mỗi truy vấn gồm 2 sâu con có độ dài bằng nhau lấy từ sâu **s**, xác định đầu ra từng truy vấn: là YES nếu tồn tại hoán vị các kí tự của xâu X là xâu Y, NO nếu ngược lại "
      ]
    },
    {
      "cell_type": "markdown",
      "metadata": {
        "id": "HaQOjHWqor2O"
      },
      "source": [
        "## **2. Nhận diện khuôn mẫu**\n",
        "-----"
      ]
    },
    {
      "cell_type": "markdown",
      "metadata": {
        "id": "R6u41q8Zqpih"
      },
      "source": [
        "Để kiểm tra xâu X có là xâu con của Y hay không ta chỉ cần xét xem tất cả các kí tự xuất hiện trong xâu A, mỗi kí có xuất hiện trong xâu B với cùng số lượng mà chúng xuất hiện trong A hay không"
      ]
    },
    {
      "cell_type": "markdown",
      "metadata": {
        "id": "ibVxNk6Xotmb"
      },
      "source": [
        "## **3. Thiết kế thuật toán**\n",
        "-----"
      ]
    },
    {
      "cell_type": "markdown",
      "metadata": {
        "id": "KQVtUlp9rWtw"
      },
      "source": [
        "Với bài toán quen thuộc này ta nghĩ ngay đến HASH:\n",
        "* Để đơn giản, giả sử rằng $\\displaystyle \\sum$=a,b,…,z (nói cách khác, $\\displaystyle \\sum$ chỉ gồm các chữ cái in thường). Để biểu diễn một xâu, thay vì dùng chữ cái, chúng ta sẽ chuyển sang biểu diễn dạng số. Ví dụ: xâu aczd được viết dưới dạng số là một số: $26^1 + 26^3 + 26^26 + 26^4$ . Như vậy, một xâu được biểu diễn dưới dạng một số ở hệ cơ số **base** với **base**>26. Từ đây suy ra, 2 xâu tương đương khi và chỉ khi biểu diễn của 2 xâu ở hệ cơ số **base** giống nhau.\n",
        "\n",
        "* Đây chính là tư tưởng của thuật toán: đổi 2 xâu từ hệ cơ số **base**, rồi đem so sánh. Tuy nhiên, chúng ta nhận thấy rằng, khi đổi 1 xâu ra biểu diễn ở hệ cơ số **base**, biểu diễn này có thể rất lớn và nằm ngoài phạm vi lưu trữ số nguyên của máy tính.\n",
        "\n",
        "* Để khắc phục điều này, chúng ta chuyển sang so sánh 2 biểu diễn của 2 xâu ở hệ cơ số 10 sau khi lấy phần dư cho một số nguyên đủ lớn. Cụ thể hơn: nếu biểu diễn trong cơ số **base** của xâu a là x và biểu diễn trong cơ số **base** của xâu b là y, chúng ta sẽ coi a tương đương b ‘khi và chỉ khi’ **x mod MOD** = **y mod MOD** trong đó **MOD** là một số nguyên đủ lớn (nếu giải thuật python có thể bỏ qua bước này vì python cho phép tính toán số lớn)\n",
        "\n",
        "* Để cài đặt ý tưởng này, chúng ta cần khởi tạo **base^x mod MOD** với **$(0 \\leq x \\leq base)$** và mã Hash của tất cả những tiền tố của s, cụ thể là mã Hash của những xâu $s[1..i]$ với $(1 \\leq i \\leq m)$.\n",
        "\n",
        "* Bài toán quy về bài toán BOT quen thuộc của chúng ta so sánh 2 tổng của 1 đoạn có bằng nhau hay không dựa vào mảng tổng tiền tố."
      ]
    },
    {
      "cell_type": "markdown",
      "metadata": {
        "id": "d0fwvmSuov6m"
      },
      "source": [
        "## **4. Thực hiện**\n",
        "-----"
      ]
    },
    {
      "cell_type": "code",
      "metadata": {
        "id": "ISnz7HezrO5u"
      },
      "source": [
        "from sys import stdin, stdout\n",
        "#s = stdin.readline().split()\n",
        "s = input().strip()\n",
        "\n",
        "n = len(s)\n",
        "H = [0 for _ in range(n + 1)]\n",
        "gen_hash = [1 for _ in range(27)]\n",
        "for i in range(1,27):\n",
        "    gen_hash[i] = gen_hash[i - 1]*311\n",
        "\n",
        "def get_hash(l,r):\n",
        "    return H[r]-H[l-1]\n",
        "\n",
        "for (i,c) in enumerate(s):\n",
        "    H[i + 1] = (H[i]+gen_hash[ord(c) - ord('a')])\n",
        "\n",
        "p = int(stdin.readline())\n",
        "for _ in range(p):\n",
        "    a,b,c,d = map(int, stdin.readline().split())\n",
        "    if get_hash(a,b)==get_hash(c,d):\n",
        "        stdout.write(\"YES\\n\")\n",
        "    else:\n",
        "        stdout.write(\"NO\\n\")"
      ],
      "execution_count": null,
      "outputs": []
    },
    {
      "cell_type": "markdown",
      "metadata": {
        "id": "fSuooYqQox9X"
      },
      "source": [
        "## **5. Submit Wecode**\n",
        "-----"
      ]
    },
    {
      "cell_type": "markdown",
      "metadata": {
        "id": "bYSM7DXErZ0L"
      },
      "source": [
        "![picture](https://drive.google.com/uc?export=view&id=1tc2R6oo8aLRGghKnI4-I0D6CBIdhcALT)"
      ]
    }
  ]
}