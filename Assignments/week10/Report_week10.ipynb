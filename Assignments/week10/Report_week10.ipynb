{
  "nbformat": 4,
  "nbformat_minor": 0,
  "metadata": {
    "colab": {
      "name": "Report_week10.ipynb",
      "provenance": [],
      "collapsed_sections": [],
      "authorship_tag": "ABX9TyNHZA6knBNWrZEx9D+CiyC3",
      "include_colab_link": true
    },
    "kernelspec": {
      "name": "python3",
      "display_name": "Python 3"
    }
  },
  "cells": [
    {
      "cell_type": "markdown",
      "metadata": {
        "id": "view-in-github",
        "colab_type": "text"
      },
      "source": [
        "<a href=\"https://colab.research.google.com/github/PhamLeQuangNhat/CS112.L11.KHTN/blob/master/Assignments/week10/Report_week10.ipynb\" target=\"_parent\"><img src=\"https://colab.research.google.com/assets/colab-badge.svg\" alt=\"Open In Colab\"/></a>"
      ]
    },
    {
      "cell_type": "markdown",
      "metadata": {
        "id": "G4Bj-PXevkyu"
      },
      "source": [
        "**<h1><center>BÀI TẬP TUẦN 10 </center></h1>**"
      ]
    },
    {
      "cell_type": "markdown",
      "metadata": {
        "id": "KzntM--4vl5L"
      },
      "source": [
        "# **Thông tin nhóm: ID: n001**\n",
        "\n",
        "1. Phạm Lê Quang Nhật   - 18520120\n",
        "2. Nguyễn Xuân Dương    - 18520212\n",
        "3. Trần Đình Khang        - 18520072 \t"
      ]
    },
    {
      "cell_type": "markdown",
      "metadata": {
        "id": "NFTfs_Rzimvn"
      },
      "source": [
        "# **Bài 1. Đèn led**\n",
        "-----"
      ]
    },
    {
      "cell_type": "markdown",
      "metadata": {
        "id": "njqIiJcnisTe"
      },
      "source": [
        "## **Đề bài**\n",
        "----"
      ]
    },
    {
      "cell_type": "markdown",
      "metadata": {
        "id": "rzn8TaUOwJPJ"
      },
      "source": [
        "> Alice vừa hoàn thành một hợp đồng lắp bảng hiển thị số bằng đèn LED. Mỗi chữ số được hiển thị trong một khung chữ nhật với 7 ống đèn LED. Bằng cách bật các ống đèn LED thích hợp ta có thể hiển thị chữ số bất kỳ. Số đèn sáng càng nhiều thì việc hiển thị chữ số đó càng tốn năng lượng. Ví dụ, hiển thị chữ số 9 sẽ tốn năng lượng hơn hiển thị chữ số 7.\n",
        "\n",
        "> Sau khi bàn giao sản phẩm trong tay Alice còn thừa lại một số khá nhiều các khung hiển thị số và một cục pin nguồn. Dung lượng pin cho phép bật sáng ***n*** ống đèn LED. Alice muốn dùng pin bật đúng ***n*** ống đèn để hiển thị một số và số hiển thị được phải có tổng chữ số là lớn nhất.\n",
        "\n",
        "Hãy xác định tổng lớn nhất của các chữ số của số có thể bật sáng.\n",
        "\n",
        "**Dữ liệu:** \n",
        "\n",
        "> Vào từ thiết bị nhập chuẩn gồm một dòng chứa số nguyên ***n*** (2 ≤ ***n*** ≤ $10^6$). \n",
        "\n",
        "**Kết quả:** \n",
        "\n",
        "> Đưa ra thiết bị xuất chuẩn một số nguyên – tổng lớn nhất đạt được.\n",
        "\n",
        "**Dữ liệu mẫu**:\n",
        "\n",
        "\\begin{array}{|c|c|}\n",
        "Input&Output\\\\ \\hline\n",
        "7 & 11\n",
        "\\end{array}"
      ]
    },
    {
      "cell_type": "markdown",
      "metadata": {
        "id": "ClWpUFtWi0Iq"
      },
      "source": [
        "## **1. Tóm tắt bài toán**\n",
        "-----"
      ]
    },
    {
      "cell_type": "markdown",
      "metadata": {
        "id": "1cq9JuERxIiE"
      },
      "source": [
        "Cho **_n_** que diêm, xác định tổng lớn nhất của các số được tạo từ ***n*** que diêm."
      ]
    },
    {
      "cell_type": "markdown",
      "metadata": {
        "id": "Si_Zb1mejE9Q"
      },
      "source": [
        "## **2. Nhận diện khuôn mẫu**\n",
        "-----"
      ]
    },
    {
      "cell_type": "markdown",
      "metadata": {
        "id": "OM1SdsK3xmd_"
      },
      "source": [
        "> Với các trường hợp ***n*** nhỏ, ta có các kết quả sau:\n",
        "\\begin{array}{|c|c|}\n",
        "Input&Output\\\\ \\hline\n",
        "2 & 1 \\\\\n",
        "3 & 7 \\\\\n",
        "4 & 4 \\\\\n",
        "5 & 8 \\\\\n",
        "6 & 14 \\\\\n",
        "7 & 11 \\\\\n",
        "8 & 15 \\\\\n",
        "9 & 21 \n",
        "\\end{array}\n",
        "\n",
        "> Ta để ý rằng, chỉ với 3 que diêm ta được 1 số 7. Theo cảm giác thì số 7 có lẽ là lựa chọn tốt nhất để đầu tư que diêm cho nó, để đạt được tổng là lớn nhất. \n",
        "\n",
        ">Vậy thuật toán chúng ta sẽ \"tham lam\" lựa chọn càng nhiều số 7 càng tốt."
      ]
    },
    {
      "cell_type": "markdown",
      "metadata": {
        "id": "AMvKjzn_jpAT"
      },
      "source": [
        "## **3. Thiết kế thuật toán**\n",
        "-----"
      ]
    },
    {
      "cell_type": "markdown",
      "metadata": {
        "id": "6HDN3mujxUGW"
      },
      "source": [
        "> Với ***n*** chia hết cho 3, tổng lớn nhất sẽ là $\\frac{n}{3}*7$\n",
        "\n",
        "> Với ***n*** chia 3 dư 2, 2 que diêm dư ấy sẽ tạo thành số 1. Khi đó tổng lớn nhất sẽ là $\\frac{n}{3}*7+1$\n",
        "\n",
        "> Với ***n*** chia 3 dư 1, 1 que diêm không thể tạo thành số gì. Vì vậy ta sẽ lấy bớt 3 diêm tạo thành số 7 để tạo thành số 4. Khi đó tổng lớn nhất sẽ là $\\frac{n-3}{3}*7+4$"
      ]
    },
    {
      "cell_type": "markdown",
      "metadata": {
        "id": "WbOIB3DbjtrX"
      },
      "source": [
        "## **4. Thực hiện**\n",
        "-----"
      ]
    },
    {
      "cell_type": "code",
      "metadata": {
        "colab": {
          "base_uri": "https://localhost:8080/"
        },
        "id": "-gXDhvmLwvJz",
        "outputId": "4b6ed2da-7976-44b6-bd1e-d510747788e2"
      },
      "source": [
        "n = int(input())\n",
        "\n",
        "mod = n%3\n",
        "if mod == 1:\n",
        "    print(7*(n//3 - 1) + 4)\n",
        "elif mod == 0:\n",
        "    print(7*(n//3))\n",
        "elif mod == 2:\n",
        "    print(7*(n//3) +  1)"
      ],
      "execution_count": 1,
      "outputs": [
        {
          "output_type": "stream",
          "text": [
            "7\n",
            "11\n"
          ],
          "name": "stdout"
        }
      ]
    },
    {
      "cell_type": "markdown",
      "metadata": {
        "id": "BDnhk0lgjzr5"
      },
      "source": [
        "## **5. Submit Wecode**\n",
        "-----"
      ]
    },
    {
      "cell_type": "markdown",
      "metadata": {
        "id": "y6xoaSrvwmVT"
      },
      "source": [
        "![picture](https://drive.google.com/uc?export=view&id=1Tt0S4jUuRY895dYShICcxLC-1QLSdCIr)"
      ]
    },
    {
      "cell_type": "markdown",
      "metadata": {
        "id": "W9hhNLX4vquy"
      },
      "source": [
        "# **Bài 2. Phần thưởng**\n",
        "-----"
      ]
    },
    {
      "cell_type": "markdown",
      "metadata": {
        "id": "nkeV2xMfvtOZ"
      },
      "source": [
        "## **Đề bài**\n",
        "----"
      ]
    },
    {
      "cell_type": "markdown",
      "metadata": {
        "id": "fwwTJo7rvvqH"
      },
      "source": [
        "## **1. Tóm tắt bài toán**\n",
        "-----"
      ]
    },
    {
      "cell_type": "markdown",
      "metadata": {
        "id": "htI49HbGvxji"
      },
      "source": [
        "## **2. Nhận diện khuôn mẫu**\n",
        "-----"
      ]
    },
    {
      "cell_type": "markdown",
      "metadata": {
        "id": "0aLTm6BvvzcU"
      },
      "source": [
        "## **3. Thiết kế thuật toán**\n",
        "-----"
      ]
    },
    {
      "cell_type": "markdown",
      "metadata": {
        "id": "U1K42GpLv1xg"
      },
      "source": [
        "## **4. Thực hiện**\n",
        "-----"
      ]
    },
    {
      "cell_type": "markdown",
      "metadata": {
        "id": "XaPqS16fv4M_"
      },
      "source": [
        "## **5. Submit Wecode**\n",
        "-----"
      ]
    }
  ]
}