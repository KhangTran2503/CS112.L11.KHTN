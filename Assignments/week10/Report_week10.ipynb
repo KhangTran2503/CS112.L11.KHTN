{
  "nbformat": 4,
  "nbformat_minor": 0,
  "metadata": {
    "colab": {
      "name": "Report_week10.ipynb",
      "provenance": [],
      "collapsed_sections": [],
      "authorship_tag": "ABX9TyMqCg8nXSL9ERBV0o9SQ4eg",
      "include_colab_link": true
    },
    "kernelspec": {
      "name": "python3",
      "display_name": "Python 3"
    }
  },
  "cells": [
    {
      "cell_type": "markdown",
      "metadata": {
        "id": "view-in-github",
        "colab_type": "text"
      },
      "source": [
        "<a href=\"https://colab.research.google.com/github/PhamLeQuangNhat/CS112.L11.KHTN/blob/master/Assignments/week10/Report_week10.ipynb\" target=\"_parent\"><img src=\"https://colab.research.google.com/assets/colab-badge.svg\" alt=\"Open In Colab\"/></a>"
      ]
    },
    {
      "cell_type": "markdown",
      "metadata": {
        "id": "G4Bj-PXevkyu"
      },
      "source": [
        "**<h1><center>BÀI TẬP TUẦN 10 </center></h1>**"
      ]
    },
    {
      "cell_type": "markdown",
      "metadata": {
        "id": "KzntM--4vl5L"
      },
      "source": [
        "# **Thông tin nhóm: ID: n001**\n",
        "\n",
        "1. Phạm Lê Quang Nhật   - 18520120\n",
        "2. Nguyễn Xuân Dương    - 18520212\n",
        "3. Trần Đình Khang        - 18520072 \t"
      ]
    },
    {
      "cell_type": "markdown",
      "metadata": {
        "id": "NFTfs_Rzimvn"
      },
      "source": [
        "# **Bài 1. Đèn led**\n",
        "-----"
      ]
    },
    {
      "cell_type": "markdown",
      "metadata": {
        "id": "njqIiJcnisTe"
      },
      "source": [
        "## **Đề bài**\n",
        "----"
      ]
    },
    {
      "cell_type": "markdown",
      "metadata": {
        "id": "rzn8TaUOwJPJ"
      },
      "source": [
        "> Alice vừa hoàn thành một hợp đồng lắp bảng hiển thị số bằng đèn LED. Mỗi chữ số được hiển thị trong một khung chữ nhật với 7 ống đèn LED. Bằng cách bật các ống đèn LED thích hợp ta có thể hiển thị chữ số bất kỳ. Số đèn sáng càng nhiều thì việc hiển thị chữ số đó càng tốn năng lượng. Ví dụ, hiển thị chữ số 9 sẽ tốn năng lượng hơn hiển thị chữ số 7.\n",
        "\n",
        "> Sau khi bàn giao sản phẩm trong tay Alice còn thừa lại một số khá nhiều các khung hiển thị số và một cục pin nguồn. Dung lượng pin cho phép bật sáng ***n*** ống đèn LED. Alice muốn dùng pin bật đúng ***n*** ống đèn để hiển thị một số và số hiển thị được phải có tổng chữ số là lớn nhất.\n",
        "\n",
        "Hãy xác định tổng lớn nhất của các chữ số của số có thể bật sáng.\n",
        "\n",
        "**Dữ liệu:** \n",
        "\n",
        "> Vào từ thiết bị nhập chuẩn gồm một dòng chứa số nguyên ***n*** (2 ≤ ***n*** ≤ $10^6$). \n",
        "\n",
        "**Kết quả:** \n",
        "\n",
        "> Đưa ra thiết bị xuất chuẩn một số nguyên – tổng lớn nhất đạt được.\n",
        "\n",
        "**Dữ liệu mẫu**:\n",
        "\n",
        "\\begin{array}{|c|c|}\n",
        "Input&Output\\\\ \\hline\n",
        "7 & 11\n",
        "\\end{array}"
      ]
    },
    {
      "cell_type": "markdown",
      "metadata": {
        "id": "ClWpUFtWi0Iq"
      },
      "source": [
        "## **1. Tóm tắt bài toán**\n",
        "-----"
      ]
    },
    {
      "cell_type": "markdown",
      "metadata": {
        "id": "1cq9JuERxIiE"
      },
      "source": [
        "Cho **_n_** que diêm, xác định tổng lớn nhất của các số được tạo từ ***n*** que diêm."
      ]
    },
    {
      "cell_type": "markdown",
      "metadata": {
        "id": "Si_Zb1mejE9Q"
      },
      "source": [
        "## **2. Nhận diện khuôn mẫu**\n",
        "-----"
      ]
    },
    {
      "cell_type": "markdown",
      "metadata": {
        "id": "OM1SdsK3xmd_"
      },
      "source": [
        "> Với các trường hợp ***n*** nhỏ, ta có các kết quả sau:\n",
        "\\begin{array}{|c|c|}\n",
        "Input&Output\\\\ \\hline\n",
        "2 & 1 \\\\\n",
        "3 & 7 \\\\\n",
        "4 & 4 \\\\\n",
        "5 & 8 \\\\\n",
        "6 & 14 \\\\\n",
        "7 & 11 \\\\\n",
        "8 & 15 \\\\\n",
        "9 & 21 \n",
        "\\end{array}\n",
        "\n",
        "> Ta để ý rằng, chỉ với 3 que diêm ta được 1 số 7. Theo cảm giác thì số 7 có lẽ là lựa chọn tốt nhất để đầu tư que diêm cho nó, để đạt được tổng là lớn nhất. \n",
        "\n",
        ">Vậy thuật toán chúng ta sẽ \"tham lam\" lựa chọn càng nhiều số 7 càng tốt."
      ]
    },
    {
      "cell_type": "markdown",
      "metadata": {
        "id": "AMvKjzn_jpAT"
      },
      "source": [
        "## **3. Thiết kế thuật toán**\n",
        "-----"
      ]
    },
    {
      "cell_type": "markdown",
      "metadata": {
        "id": "6HDN3mujxUGW"
      },
      "source": [
        "> Với ***n*** chia hết cho 3, tổng lớn nhất sẽ là $\\frac{n}{3}*7$\n",
        "\n",
        "> Với ***n*** chia 3 dư 2, 2 que diêm dư ấy sẽ tạo thành số 1. Khi đó tổng lớn nhất sẽ là $\\frac{n}{3}*7+1$\n",
        "\n",
        "> Với ***n*** chia 3 dư 1, 1 que diêm không thể tạo thành số gì. Vì vậy ta sẽ lấy bớt 3 diêm tạo thành số 7 để tạo thành số 4. Khi đó tổng lớn nhất sẽ là $\\frac{n-3}{3}*7+4$"
      ]
    },
    {
      "cell_type": "markdown",
      "metadata": {
        "id": "WbOIB3DbjtrX"
      },
      "source": [
        "## **4. Thực hiện**\n",
        "-----"
      ]
    },
    {
      "cell_type": "code",
      "metadata": {
        "colab": {
          "base_uri": "https://localhost:8080/"
        },
        "id": "-gXDhvmLwvJz",
        "outputId": "4b6ed2da-7976-44b6-bd1e-d510747788e2"
      },
      "source": [
        "n = int(input())\n",
        "\n",
        "mod = n%3\n",
        "if mod == 1:\n",
        "    print(7*(n//3 - 1) + 4)\n",
        "elif mod == 0:\n",
        "    print(7*(n//3))\n",
        "elif mod == 2:\n",
        "    print(7*(n//3) +  1)"
      ],
      "execution_count": null,
      "outputs": [
        {
          "output_type": "stream",
          "text": [
            "7\n",
            "11\n"
          ],
          "name": "stdout"
        }
      ]
    },
    {
      "cell_type": "markdown",
      "metadata": {
        "id": "BDnhk0lgjzr5"
      },
      "source": [
        "## **5. Submit Wecode**\n",
        "-----"
      ]
    },
    {
      "cell_type": "markdown",
      "metadata": {
        "id": "y6xoaSrvwmVT"
      },
      "source": [
        "![picture](https://drive.google.com/uc?export=view&id=1Tt0S4jUuRY895dYShICcxLC-1QLSdCIr)"
      ]
    },
    {
      "cell_type": "markdown",
      "metadata": {
        "id": "W9hhNLX4vquy"
      },
      "source": [
        "# **Bài 2. Phần thưởng**\n",
        "-----"
      ]
    },
    {
      "cell_type": "markdown",
      "metadata": {
        "id": "nkeV2xMfvtOZ"
      },
      "source": [
        "## **Đề bài**\n",
        "----"
      ]
    },
    {
      "cell_type": "markdown",
      "metadata": {
        "id": "TMWSHKud1e29"
      },
      "source": [
        "Harry và Hermione thắng cuộc trong một trò chơi truyền hình và bây giờ là giai đoạn trao thưởng. Quy tắc trao thưởng là như sau: có n phần thưởng xếp thành một hàng dài, đánh số từ 1 đến n. Tùy thuộc vào số điểm đã đạt được của cặp chơi, người dẫn chương trình sẽ nói một số $k (1 \\leq k \\leq n/3)$. Một người chơi sẽ chọn cho mình k phần thưởng xếp liên tiếp nhau, người thứ hai cũng sẽ chọn cho mình k phần thưởng xếp liên tiếp nhau trong số còn lại. Hermione là nữ nên được ưu tiên chọn trước.\n",
        "\n",
        "Trò chơi đã kết thúc. Bây giờ không cần phải đồng tâm hiệp lực. Hermione vẫn còn rất giận Harry về một câu nói vô tâm mà chắc bây giờ Harry cũng không nhớ là mình nói cái gì và khi nào. Hermione hiểu rất rõ giá trị mỗi phần thưởng đối với Harry, cụ thể là phần thưởng thứ i sẽ có giá trị $a_i$, i=  1 $\\Rightarrow$ n và quyết định cách chọn của mình sao cho tổng giá trị phần thưởng mà Harry có thể đạt được càng nhỏ càng tốt. Về tổng giá trị phần thưởng của mình, Hermione không mảy may quan tâm!\n",
        "\n",
        "Hãy xác định x – tổng nhỏ nhất giá trị phần thưởng mà Hermione có thể chọn để Harry không có cách chọn phần thưởng với tổng giá trị lớn hơn x.\n",
        "\n",
        "\n",
        "**Dữ liệu:** \n",
        "\n",
        " Dòng đầu tiên chứa 2 số nguyên n và k (3 $\\leq$ n $\\leq 10^5$, 1 $\\leq$ k $\\leq n/3$),\n",
        "Dòng thứ 2 chứa n số nguyên $a_1, a_2, . . ., a_n$ (1 $\\leq$ $a_i$ $\\leq$ $10^9$, i = 1 $\\Rightarrow$ n). \n",
        "\n",
        "**Kết quả:** \n",
        "\n",
        " Đưa ra thiết bị xuất chuẩn số nguyên ***x*** tìm được\n",
        "\n",
        "**Dữ liệu mẫu**:\n",
        "\n",
        "\\begin{array}{|c|c|}\n",
        "Input&Output\\\\ \\hline\n",
        "10 \\ 2 & 7 \\\\\n",
        "1\\ 2\\ 4\\ 5\\ 2\\ 4\\ 2\\ 2\\ 1\\ 6 & \n",
        "\\end{array}"
      ]
    },
    {
      "cell_type": "markdown",
      "metadata": {
        "id": "fwwTJo7rvvqH"
      },
      "source": [
        "## **1. Tóm tắt bài toán**\n",
        "-----"
      ]
    },
    {
      "cell_type": "markdown",
      "metadata": {
        "id": "m6SvfWlb1pLC"
      },
      "source": [
        "Cho N số nguyên dương $a_1,a_2,...,a_n$ và số nguyên K, hãy tìm đoạn con $b_i,b_i+1 ... b_i+k-1$ sao cho  $ \\sum_{i}^{i+k} b_i $ là lớn nhất sau khi bỏ đi 1 đoạn con khác độ dài K bất kì."
      ]
    },
    {
      "cell_type": "markdown",
      "metadata": {
        "id": "htI49HbGvxji"
      },
      "source": [
        "## **2. Nhận diện khuôn mẫu**\n",
        "-----"
      ]
    },
    {
      "cell_type": "markdown",
      "metadata": {
        "id": "7fhIJWxq4tFt"
      },
      "source": [
        "Với mỗi đoạn mà Hermione chọn thì mảng ban đầu của chúng ta được phân chia thành 2 phần, phần đầu và phần cuối chưa được Harry chọn, và sẽ chọn $k$ phần tử liên tiếp trong phần đầu hoặc cuối sao cho Harry đạt được tổng giá trị lớn nhất.\n",
        "\n",
        "<b>Cách ngây thơ: </b>\n",
        "Ta sẽ cho Hermione chọn đoạn $[i, i + k - 1]$ và Harry sẽ chọn đoạn con có độ dài $k$ có tổng lớn nhất trong hai phần $[1, i-1]$ và $[i + k, n]$ bằng cách sử dụng tổng tiền tố. $\\rightarrow$ Độ phức tạp $O(N^2)$\n",
        "\n",
        "<b>Cách tối ưu:</b>\n",
        "Ta định nghĩa mảng $f[i]$ là giá trị có tổng lớn nhất của $k$ phần tử liên tiếp trong đoạn $[1, i]$, tương tự với $g[i]$ là giá trị lớn nhất của $k$ phần tử liên tiếp trong đoạn $[i, n]$. Với mỗi đoạn mà Hermione chọn, ta cần tìm đáp án nhỏ nhất trong phương án mà Harry chọn (tổng lớn nhất của hai phần còn lại ~ $max(f[i], g[i + k - 1])$). $\\rightarrow$ Độ phức tạp $O(N)$"
      ]
    },
    {
      "cell_type": "markdown",
      "metadata": {
        "id": "0aLTm6BvvzcU"
      },
      "source": [
        "## **3. Thiết kế thuật toán**\n",
        "-----"
      ]
    },
    {
      "cell_type": "markdown",
      "metadata": {
        "id": "upztizCq4bGE"
      },
      "source": [
        "```\n",
        "nhập input -> n, k, mảng a\n",
        "\n",
        "chuẩn bị mảng tổng tiền tố s\n",
        "chuẩn bị max tiền tố f: f[i] = max(f[i-1], s[i] - s[i - k])\n",
        "chuẩn bị max hậu tố g: g[i] = max(g[i+1], s[i + k - 1] - s[i - 1])\n",
        "\n",
        "answer = +oo\n",
        "for i from 1 to n :\n",
        "    Harry_solution = max(f[i-1], g[i + k)\n",
        "    # vì Hermione sẽ chọn đoạn từ i đến i - k + 1\n",
        "\n",
        "    #cập nhật answer theo phương án mà Harry chọn\n",
        "    answer = min(answer, Harry_solution)\n",
        "\n",
        "output -> answer\n",
        "\n",
        "```"
      ]
    },
    {
      "cell_type": "markdown",
      "metadata": {
        "id": "U1K42GpLv1xg"
      },
      "source": [
        "## **4. Thực hiện**\n",
        "-----"
      ]
    },
    {
      "cell_type": "code",
      "metadata": {
        "colab": {
          "base_uri": "https://localhost:8080/"
        },
        "id": "88CLvC5e4Cwa",
        "outputId": "b59e3e68-334a-4df4-d450-734e54d11832"
      },
      "source": [
        "n, k = map(int,input().split())\n",
        "a = list(map(int,input().split()))\n",
        "a = [0] + a\n",
        "\n",
        "# prefix sum\n",
        "for i in range(1,n + 1):\n",
        "\ta[i] += a[i - 1]\n",
        "\n",
        "\n",
        "# create list b \n",
        "b = [0 for _ in range(n - k + 3)]\n",
        "\n",
        "m = n - k + 1\n",
        "for i in range(1,n - k + 2):\n",
        "\tb[i] = a[i + k - 1] - a[i - 1]  \n",
        "\n",
        "# max prefix\n",
        "pre = [0 for _ in range(n - k + 3)]\n",
        "for i in range(1,n - k + 2):\n",
        "\tpre[i] = max(b[i],pre[i - 1])\n",
        "\n",
        "# max suffix\n",
        "suff = [0 for _ in range(n - k + 3)]\n",
        "for i in range(n - k  + 1,0,-1):\n",
        "\tsuff[i] = max(b[i],suff[i + 1])\n",
        "\n",
        "ans = 10**15\n",
        "for i in range(1,m + 1):\n",
        "\ttmp = 0\n",
        "\tif i >= k: tmp = max(tmp,pre[i - k])\n",
        "\tif i + k <= m + 1: tmp = max(tmp,suff[i + k])\n",
        "\tans = min(ans,tmp)\n",
        "\n",
        "print(ans)"
      ],
      "execution_count": 1,
      "outputs": [
        {
          "output_type": "stream",
          "text": [
            "10 2\n",
            "1 2 4 5 2 4 2 2 1 6\n",
            "7\n"
          ],
          "name": "stdout"
        }
      ]
    },
    {
      "cell_type": "markdown",
      "metadata": {
        "id": "XaPqS16fv4M_"
      },
      "source": [
        "## **5. Submit Wecode**\n",
        "-----"
      ]
    },
    {
      "cell_type": "markdown",
      "metadata": {
        "id": "lkGZLtIu0wWC"
      },
      "source": [
        "![picture](https://drive.google.com/uc?export=view&id=17-2z_ka9lfCvvJV-zZhp5vYvn6p4xjz1)"
      ]
    }
  ]
}