{
  "nbformat": 4,
  "nbformat_minor": 0,
  "metadata": {
    "colab": {
      "name": "Report_week5.ipynb",
      "provenance": [],
      "collapsed_sections": [],
      "include_colab_link": true
    },
    "kernelspec": {
      "name": "python3",
      "display_name": "Python 3"
    }
  },
  "cells": [
    {
      "cell_type": "markdown",
      "metadata": {
        "id": "view-in-github",
        "colab_type": "text"
      },
      "source": [
        "<a href=\"https://colab.research.google.com/github/PhamLeQuangNhat/CS112.L11.KHTN/blob/master/Assignments/week5/Report_week5.ipynb\" target=\"_parent\"><img src=\"https://colab.research.google.com/assets/colab-badge.svg\" alt=\"Open In Colab\"/></a>"
      ]
    },
    {
      "cell_type": "markdown",
      "metadata": {
        "id": "0DiBAUQwIrf7"
      },
      "source": [
        "**<h1><center>BÀI TẬP TUẦN 5 (8/10)</center></h1>**"
      ]
    },
    {
      "cell_type": "markdown",
      "metadata": {
        "id": "FcbwhdfXIw0H"
      },
      "source": [
        "# **Thông tin nhóm: ID: n001**\n",
        "\n",
        "1. Phạm Lê Quang Nhật   - 18520120\n",
        "2. Nguyễn Xuân Dương    - 18520212\n",
        "3. Trần Đình Khang        - 18520072 \t"
      ]
    },
    {
      "cell_type": "markdown",
      "metadata": {
        "id": "VhgzG20cI1Rq"
      },
      "source": [
        "# **Bài 1. Khóa số**\n",
        "-----"
      ]
    },
    {
      "cell_type": "markdown",
      "metadata": {
        "id": "rn2wc7UfI6h6"
      },
      "source": [
        "## **Đề bài**\n",
        "----"
      ]
    },
    {
      "cell_type": "markdown",
      "metadata": {
        "id": "S22bNvnCI-ne"
      },
      "source": [
        "Để tăng độ an toàn chống hiện tượng cướp ngân hàng ngày càng phổ biến người ta dùng khóa số với mã mở khóa đơn giản nhưng rất hiệu quả. Trên cửa ra vào hiển thị một xâu khá dài các ký tự số. Các chữ số có thể di chuyển đổi chổ cho nhau hoặc bị xóa. Muốn mở khóa người ta phải di chuyển các chữ số và trong trường hợp cần thiết – xóa vài chữ số để nhận được xâu lớn nhất thỏa mãn điều kiện đã cài đặt. Điều kiện này được thay đổi thường xuyên. Hôm nay điều kiện đó là “Số nhận được phải chia hết cho $3$”. Số nhận được có thể bắt đầu bằng các chữ số $0$. Xâu “$000$” sẽ lớn hơn xâu “$00$”.\n",
        "\n",
        "Hãy xác định khóa mở cửa.\n",
        "\n",
        "*Dữ liệu*: Vào từ thiết bị nhập chuẩn gồm một xâu ký tự số có độ dài lớn hơn $2$ và không vượt quá $105$.\n",
        "\n",
        "*Kết quả*: Đưa ra thiết bị xuất chuẩn xâu khóa mở cửa.\n",
        "\n",
        "*Ví dụ*:\n",
        "\n",
        "|    INPUT    |    OUTPUT    |\n",
        "--------------|--------------|\n",
        "|105          |510           |"
      ]
    },
    {
      "cell_type": "markdown",
      "metadata": {
        "id": "4QBJhZxjJJxc"
      },
      "source": [
        "## **1. Tóm tắt bài toán**\n",
        "-----"
      ]
    },
    {
      "cell_type": "markdown",
      "metadata": {
        "id": "hvQimjNhJQBQ"
      },
      "source": [
        "Tìm chuỗi số lớn nhất chia hết cho $3$ từ chuỗi đã cho bằng cách đảo chuỗi, xóa chữ số của chuỗi\n",
        "## Constrain:\n",
        "- Độ dài của chuỗi là l thì $2 \\le l \\le 10^5$"
      ]
    },
    {
      "cell_type": "markdown",
      "metadata": {
        "id": "QzU_5C4nJUYc"
      },
      "source": [
        "##**2. Nhận diện mẫu**\n",
        "---"
      ]
    },
    {
      "cell_type": "markdown",
      "metadata": {
        "id": "Q-b4m2igJeSb"
      },
      "source": [
        "- Bài toán thuộc lớp bài toán **số học**.\n",
        "\n",
        "- **Phân tích:**\n",
        "> Giả sử số $S$ có dạng $S = s_{1}s_{2}...s_{l}$.\n",
        "> \n",
        "> Số $S \\equiv 0 \\;(\\bmod\\; 3)$ khi và chỉ khi $s_{1} + s_{2} + ... + s_{l} \\equiv 0 \\; (\\bmod\\; 3)$ . \n",
        ">\n",
        "> Xét $r = (s_{1} + s_{2} + ... + s_{l})\\mod 3$.\n",
        ">\n",
        "> Khi đó $r$ có thể nhận các giá trị sau:\n",
        ">\n",
        ">   - **Trường hợp** $r = 0$: \n",
        ">\n",
        ">        + Khi đó $S$ đã thỏa mãn điều kiện đề bài. Do đó chỉ cần in ra $S$.\n",
        ">\n",
        ">   - **Trường hợp** $r = 1$: \n",
        ">\n",
        ">        + Nếu số lượng số $s_{i}$ chia 3 dư 1 lớn hơn 0 thì chỉ cần xóa đi $s_{i}$ nhỏ nhất mà chia 3 dư 1.\n",
        ">\n",
        ">        + Ngược lại, nếu không có số $s_{i}$ nào chia 3 dư 1 thì ta sẽ xóa 2 số nhỏ nhất mà chúng chia 3 dư 2.\n",
        ">\n",
        ">   - **Trường hợp** $r = 2$:\n",
        ">        + Nếu số lượng số $s_{i}$ chia 3 dư 2 lớn hơn 0 thì chỉ cần xóa đi $s_{i}$ nhỏ nhất mà chia 3 dư 2.\n",
        ">\n",
        ">        + Ngược lại, nếu không có số $s_{i}$ nào chia 3 dư 2 thì ta sẽ xóa 2 số nhỏ nhất mà chúng chia 3 dư 1.\n",
        ">\n",
        "\n"
      ]
    },
    {
      "cell_type": "markdown",
      "metadata": {
        "id": "-DGpa6_QJemB"
      },
      "source": [
        "##**3. Thiết kế thuật toán**\n",
        "---"
      ]
    },
    {
      "cell_type": "markdown",
      "metadata": {
        "id": "l94tYXreAA3v"
      },
      "source": [
        "```\n",
        "function calc(s): -> return \n",
        "    r = sum_all_digits(s) mod 3\n",
        "    if r = 0: return s\n",
        "    \n",
        "    if r = 1:\n",
        "        cnt1 = number_of_3k+1_in_S(s)\n",
        "        if cnt1 > 1: \n",
        "            pos = position_of_minmun_number_3k+1(S)\n",
        "            remove s_{pos} in S\n",
        "            return S\n",
        "        if cnt1 = 0:\n",
        "            (pos1,pos2) = position_of_two_minmun_number_3k+2(S)\n",
        "            remove s_{pos1} in S\n",
        "            remove s_{pos2} in S\n",
        "            return S\n",
        "    if r = 2:\n",
        "        cnt2 = number_of_3k+2_in_S(s)\n",
        "        if cnt2 > 1: \n",
        "            pos = position_of_minmun_number_3k+2(S)\n",
        "            remove s_{pos} in S\n",
        "            return S\n",
        "        if cnt2 = 0:\n",
        "            (pos1,pos2) = position_of_two_minmun_number_3k+1(S)\n",
        "            remove s_{pos1} in S\n",
        "            remove s_{pos2} in S\n",
        "            return S\n",
        "\n",
        " ```"
      ]
    },
    {
      "cell_type": "markdown",
      "metadata": {
        "id": "8fHCtWk6JhrC"
      },
      "source": [
        "##**4. Thực thi**\n",
        "--- "
      ]
    },
    {
      "cell_type": "code",
      "metadata": {
        "id": "_PZGL5HCJi79",
        "outputId": "11f44fab-d120-4f15-c7e2-bc56d183fc34",
        "colab": {
          "base_uri": "https://localhost:8080/",
          "height": 52
        }
      },
      "source": [
        "#from sys import stdin, stdout \n",
        "cnt = [0 for _ in range(10)]\n",
        "cnt_mod = [0 for _ in range(3)]\n",
        "mod_1 = [1,4,7]\n",
        "mod_2 = [2,5,8]\n",
        "s = 0\n",
        "#inp = stdin.readline().strip()\n",
        "inp = input().strip()\n",
        "a = [int(x) for x in inp]\n",
        "for x in a:\n",
        "    cnt[x]+=1\n",
        "    cnt_mod[x % 3] += 1\n",
        "    \n",
        "s = sum(a)\n",
        "\n",
        "if s%3 == 1:\n",
        "    if cnt_mod[1] >= 1:\n",
        "        dem1 = 1\n",
        "        for i in mod_1:\n",
        "            tmp = min(dem1,cnt[i])\n",
        "            cnt[i] -= tmp\n",
        "            dem1 -= tmp\n",
        "            if dem1 == 0: break\n",
        "    else:\n",
        "        dem2 = 2\n",
        "        for i in mod_2:\n",
        "            tmp = min(dem2,cnt[i])\n",
        "            cnt[i] -= tmp\n",
        "            dem2 -= tmp\n",
        "            if dem2 == 0: break\n",
        "\n",
        "elif s%3  == 2:\n",
        "    if cnt_mod[2] >= 1:\n",
        "        dem2 = 1\n",
        "        for i in mod_2:\n",
        "            tmp = min(dem2,cnt[i])\n",
        "            cnt[i] -= tmp\n",
        "            dem2 -= tmp\n",
        "            if dem2 == 0: break\n",
        "    else:\n",
        "        dem1 = 2\n",
        "        for i in mod_1:\n",
        "            tmp = min(dem1,cnt[i])\n",
        "            cnt[i] -= tmp\n",
        "            dem1 -= tmp\n",
        "            if dem1 == 0: break\n",
        "        \n",
        "res = ''.join([str(i)*cnt[i] for i in range(9,-1,-1)])\n",
        "print(res)"
      ],
      "execution_count": 3,
      "outputs": [
        {
          "output_type": "stream",
          "text": [
            "105\n",
            "510\n"
          ],
          "name": "stdout"
        }
      ]
    },
    {
      "cell_type": "markdown",
      "metadata": {
        "id": "lgaEbRVwJkNW"
      },
      "source": [
        "##**5. Kết quả trên wecode**\n",
        "--- "
      ]
    },
    {
      "cell_type": "markdown",
      "metadata": {
        "id": "kJYmvLdWKXLJ"
      },
      "source": [
        "![picture](https://drive.google.com/uc?export=view&id=1CsM9LsOjNUHiiUhjKjYO7GH9uhvDqxaM)"
      ]
    }
  ]
}