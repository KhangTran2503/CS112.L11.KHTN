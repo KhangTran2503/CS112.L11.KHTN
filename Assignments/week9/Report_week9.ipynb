{
  "nbformat": 4,
  "nbformat_minor": 0,
  "metadata": {
    "colab": {
      "name": "Report_week9.ipynb",
      "provenance": [],
      "collapsed_sections": [],
      "toc_visible": true,
      "authorship_tag": "ABX9TyN+veFEABew89qjzUFbimv0",
      "include_colab_link": true
    },
    "kernelspec": {
      "name": "python3",
      "display_name": "Python 3"
    }
  },
  "cells": [
    {
      "cell_type": "markdown",
      "metadata": {
        "id": "view-in-github",
        "colab_type": "text"
      },
      "source": [
        "<a href=\"https://colab.research.google.com/github/PhamLeQuangNhat/CS112.L11.KHTN/blob/master/Assignments/week9/Report_week9.ipynb\" target=\"_parent\"><img src=\"https://colab.research.google.com/assets/colab-badge.svg\" alt=\"Open In Colab\"/></a>"
      ]
    },
    {
      "cell_type": "markdown",
      "metadata": {
        "id": "PEbJRABCiiGx"
      },
      "source": [
        "**<h1><center>BÀI TẬP TUẦN 9 </center></h1>**"
      ]
    },
    {
      "cell_type": "markdown",
      "metadata": {
        "id": "1rfdN-B1imNh"
      },
      "source": [
        "# **Thông tin nhóm: ID: n001**\n",
        "\n",
        "1. Phạm Lê Quang Nhật   - 18520120\n",
        "2. Nguyễn Xuân Dương    - 18520212\n",
        "3. Trần Đình Khang        - 18520072 \t"
      ]
    },
    {
      "cell_type": "markdown",
      "metadata": {
        "id": "NFTfs_Rzimvn"
      },
      "source": [
        "# **Bài 1. Số nguyên mới**\n",
        "-----"
      ]
    },
    {
      "cell_type": "markdown",
      "metadata": {
        "id": "njqIiJcnisTe"
      },
      "source": [
        "## **Đề bài**\n",
        "----"
      ]
    },
    {
      "cell_type": "markdown",
      "metadata": {
        "id": "N2tnphIzixlq"
      },
      "source": [
        "\n",
        "> Cho số nguyên dương **_n_** có không quá 100 chữ số. Hãy xác định số nguyên lớn nhất **_m_** chia hết cho 3 và khác **_n_** ở đúng một chữ số.\n",
        "\n",
        "> Ví dụ, ***n*** = 123 thì ***m*** sẽ là 723\n",
        "\n",
        "**Dữ liệu:** \n",
        "\n",
        "> Vào từ thiết bị nhập chuẩn gồm một dòng chứa số nguyên ***n*** có không quá 100 chữ số và không chứa các số 0 không có nghĩa. \n",
        "\n",
        "**Kết quả:** \n",
        "\n",
        "> Đưa ra thiết bị xuất chuẩn số nguyên ***m*** tìm được\n",
        "\n",
        "**Dữ liệu mẫu**:\n",
        "\n",
        "\\begin{array}{|c|c|}\n",
        "Input&Output\\\\ \\hline\n",
        "123 & 723\n",
        "\\end{array}"
      ]
    },
    {
      "cell_type": "markdown",
      "metadata": {
        "id": "ClWpUFtWi0Iq"
      },
      "source": [
        "## **1. Tóm tắt bài toán**\n",
        "-----"
      ]
    },
    {
      "cell_type": "markdown",
      "metadata": {
        "id": "HA2gtN8Gi8Ns"
      },
      "source": [
        "Cho số nguyên dương **_n_** có không quá 100 chữ số. Hãy xác định số nguyên lớn nhất **_m_** chia hết cho 3 và khác **_n_** ở đúng một chữ số."
      ]
    },
    {
      "cell_type": "markdown",
      "metadata": {
        "id": "Si_Zb1mejE9Q"
      },
      "source": [
        "## **2. Nhận diện khuôn mẫu**\n",
        "-----"
      ]
    },
    {
      "cell_type": "markdown",
      "metadata": {
        "id": "2RbbQk4cjLyK"
      },
      "source": [
        "Khi tiếp cận bài toán này, ta sẽ nghĩ tới một số chú ý sau:\n",
        "- Ta sẽ thay đổi **duy nhất 1 chữ số**, thay đổi ở đây có nghĩ là thay chữ số này thành chữ số lớn nhất để tổng các chữ số trong ***n*** chia hết cho 3, sau khi thay đổi thì chữ số mới này **lớn hơn** chữ số ban đầu.\n",
        "- Để số mới là số lớn nhất và chia hết cho 3, ta sẽ thay đổi chữ số đầu tiên của ***n*** (nếu được). \n",
        "- Nếu không được, ta sẽ thay đổi chữ số tiếp theo (Nếu được).\n",
        "- Nếu không được, ta tiếp tục thay đổi chữ số tiếp theo (nếu được)....\n",
        "- Nếu đến chữ số cuối cùng của ***n*** vẫn không thay đổi được, ta sẽ trừ ***n*** một số ***r*** là số dư khi ***n*** chia cho 3 (***r*** $\\in$ {1,2,3}). Khi đó ta sẽ được số ***m*** là số nguyên lớn nhất thỏa điều kiện\n"
      ]
    },
    {
      "cell_type": "markdown",
      "metadata": {
        "id": "AMvKjzn_jpAT"
      },
      "source": [
        "## **3. Thiết kế thuật toán**\n",
        "-----"
      ]
    },
    {
      "cell_type": "markdown",
      "metadata": {
        "id": "UCCxxdFojRBL"
      },
      "source": [
        "\n",
        "\n",
        "> Ta thực hiện vòng lặp duyệt các chữ số của ***n*** từ chữ số đầu tới khi có 1 chữ số được thay đổi.\n",
        "\n",
        "> Nếu có thể thay đổi, ta dừng vòng lặp và xuất ra kết quả.\n",
        "\n",
        "> Nếu đến chữ số cuối cùng mà chưa thay đổi, xuất ra ***n*** - ***r*** ( với ***r*** là số dư khi ***n*** chia cho 3 (***r*** $\\in$ {1,2,3})"
      ]
    },
    {
      "cell_type": "markdown",
      "metadata": {
        "id": "WbOIB3DbjtrX"
      },
      "source": [
        "## **4. Thực hiện**\n",
        "-----"
      ]
    },
    {
      "cell_type": "code",
      "metadata": {
        "colab": {
          "base_uri": "https://localhost:8080/"
        },
        "id": "4k4WTkvnj178",
        "outputId": "d70200d0-d78e-4de3-8909-bc6fc137ca85"
      },
      "source": [
        "n = input()\n",
        "int_n = int(n)\n",
        "mod = int_n % 3\n",
        "list_n = list(n)\n",
        "\n",
        "if mod == 0:\n",
        "    tmp = 3\n",
        "elif mod == 1:\n",
        "    tmp = 2\n",
        "else:\n",
        "    tmp = 1\n",
        "    \n",
        "for i in range (len(list_n)):\n",
        "    check = 0\n",
        "    a = int(list_n[i]) + tmp\n",
        "    \n",
        "    if(a <= 9):\n",
        "        check = 1\n",
        "        while a <=9:\n",
        "            check += 1 \n",
        "            a += 3\n",
        "    \n",
        "    if check == 1:\n",
        "        list_n[i] = str(a)\n",
        "        break\n",
        "    elif check > 1:\n",
        "        list_n[i] = str(a - 3)\n",
        "        break\n",
        "    \n",
        "n_2 = ''.join(list_n)\n",
        "\n",
        "if (n != n_2):\n",
        "    print(n_2)\n",
        "else:\n",
        "    list_n = list(n)\n",
        "    if mod == 0:\n",
        "        tmp = 3\n",
        "    elif mod == 1:\n",
        "        tmp = 1\n",
        "    else:\n",
        "        tmp = 2\n",
        "    list_n[-1] = str(int(list_n[-1]) - tmp) \n",
        "    print(''.join(list_n))"
      ],
      "execution_count": 1,
      "outputs": [
        {
          "output_type": "stream",
          "text": [
            "123\n",
            "723\n"
          ],
          "name": "stdout"
        }
      ]
    },
    {
      "cell_type": "markdown",
      "metadata": {
        "id": "BDnhk0lgjzr5"
      },
      "source": [
        "## **5. Submit Wecode**\n",
        "-----"
      ]
    },
    {
      "cell_type": "markdown",
      "metadata": {
        "id": "cmOybrY5l5zd"
      },
      "source": [
        "![picture](https://drive.google.com/uc?export=view&id=1ForSa1gfmut-rx5I0sR3T7QxxLxfsH1x)"
      ]
    },
    {
      "cell_type": "markdown",
      "metadata": {
        "id": "67oSVzOij5rt"
      },
      "source": [
        "# **Bài 2. Con đường gốm sứ**\n",
        "-----"
      ]
    },
    {
      "cell_type": "markdown",
      "metadata": {
        "id": "xPkKEooekEl9"
      },
      "source": [
        "## **Đề bài**\n",
        "----"
      ]
    },
    {
      "cell_type": "markdown",
      "metadata": {
        "id": "sUxHZS88kHDE"
      },
      "source": [
        "## **1. Tóm tắt bài toán**\n",
        "-----"
      ]
    },
    {
      "cell_type": "markdown",
      "metadata": {
        "id": "jk8t4o-NkX56"
      },
      "source": [
        "> Cho **N** màu lô của con đê, xác định xem có cách nào chia **N** lô này thành các bức tranh (1 bức tranh gồm **K(N%K = 0)** lô liên tiếp bắt đầu từ lô đầu tiên) sao cho cuối cùng chỉ có 2 loại bức tranh, 2 bức tranh giống nhau là có thể hoán vị lô của bức tranh này để giống được bức tranh kia. Đếm số cách để chia theo yêu cầu trên.\n",
        "\n",
        "**Dữ liệu:** \n",
        "\n",
        "> Vào từ thiết bị nhập chuẩn:\n",
        "\n",
        ">> - Dòng đầu tiên chứa số nguyên dương $N(1 \\leq N \\leq 10^5)$ - độ dài con đê tương ứng với số lô,\n",
        "\n",
        ">> - Dòng thứ 2 các số nguyên dương $a_i( 1 \\leq i \\leq n)$ - màu của các lô $(1 \\leq a_i \\leq 50000) $ \n",
        "\n",
        "**Kết quả:** \n",
        "\n",
        ">  dòng đầu tiên chứa số nguyên m – số lượng phương án khác nhau chia con đường thành các bức tranh, nếu không có cách phân chia để đảm bảo phân biệt tranh của đúng 2 nhóm thì đưa ra số -1. Nếu có cách phân biệt thì ở mỗi dòng tiếp theo đưa ra 3 số nguyên k, p và q – độ rộng bức tranh, số tranh do nhóm 1 thực hiện và số tranh do nhóm 2 thực hiện, thông tin đưa ra theo thứ tự tăng dần của k và ở mỗi dòng có p ≥ q > 0.\n",
        "\n",
        "**Dữ liệu mẫu**:\n",
        "\n",
        "\\begin{array}{|c|c|}\n",
        "Input&Output\\\\ \\hline\n",
        "9 & 1\\\\\n",
        "1\\;2\\;3\\;6\\;4\\;9\\;3\\;1\\;2& 3\\;2\\;1\\\\\n",
        "\\end{array}\n"
      ]
    },
    {
      "cell_type": "markdown",
      "metadata": {
        "id": "pmgrHwiCkItQ"
      },
      "source": [
        "## **2. Nhận diện khuôn mẫu**\n",
        "-----"
      ]
    },
    {
      "cell_type": "markdown",
      "metadata": {
        "id": "iEaF0c2JkgTD"
      },
      "source": [
        "Cho dãy **a** đếm số cách chia dãy làm K dãy con với độ dài bằng nhau sao cho chỉ còn 2 loại dãy con khác tính chất nhau, 2 dãy con X,Y cùng tính chất khi và chỉ khi tồn tại hoán vị X sao cho bằng Y"
      ]
    },
    {
      "cell_type": "markdown",
      "metadata": {
        "id": "QZVkF3OjkKPX"
      },
      "source": [
        "## **3. Thiết kế thuật toán**\n",
        "-----"
      ]
    },
    {
      "cell_type": "markdown",
      "metadata": {
        "id": "N5S8EwzzkPR2"
      },
      "source": [
        "## **4. Thực hiện**\n",
        "-----"
      ]
    },
    {
      "cell_type": "code",
      "metadata": {
        "colab": {
          "base_uri": "https://localhost:8080/"
        },
        "id": "AaK1L68fkp7e",
        "outputId": "fc89c732-5ee5-4d4a-e39b-3fa1e138ea64"
      },
      "source": [
        "n = int(input().strip())\n",
        "a = list(map(int, input().strip().split()))\n",
        "\n",
        "H = [0] * (n+1)\n",
        "a = [0] + a\n",
        "\n",
        "for i in range(1,n+1):\n",
        "    H[i] = H[i-1] + a[i]*(a[i]+11)*(a[i]+17)\n",
        "    \n",
        "def get_H(l,r):\n",
        "    return H[r]-H[l-1]\n",
        "    \n",
        "ans = []\n",
        "\n",
        "def solve(x, ans):\n",
        "    n1 = 0\n",
        "    n2 = 0\n",
        "    s1 = -1 \n",
        "    s2 = -1\n",
        "    for i in range(1, n+1, x):\n",
        "        s = get_H(i,i+x-1)\n",
        "        if s==s1 or s1==-1:\n",
        "            n1+=1\n",
        "            s1=s\n",
        "        elif s==s2 or s2==-1:\n",
        "            n2+=1\n",
        "            s2=s\n",
        "        else: return\n",
        "    if n1>0 and n2>0:\n",
        "        ans += [(x,n1,n2)]\n",
        "\n",
        "for i in range(1,n):\n",
        "    if n%i==0:\n",
        "        solve(i, ans)\n",
        "        \n",
        "if len(ans)==0:\n",
        "    print(-1)\n",
        "else:\n",
        "    print(len(ans))\n",
        "    for x in ans:\n",
        "        print(*x)"
      ],
      "execution_count": 2,
      "outputs": [
        {
          "output_type": "stream",
          "text": [
            "9\n",
            "1 2 3 6 4 9 3 1 2\n",
            "1\n",
            "3 2 1\n"
          ],
          "name": "stdout"
        }
      ]
    },
    {
      "cell_type": "markdown",
      "metadata": {
        "id": "ld16nxzVktPi"
      },
      "source": [
        "## **5. Submit Wecode**\n",
        "-----"
      ]
    },
    {
      "cell_type": "markdown",
      "metadata": {
        "id": "lqlxf0iqmKg-"
      },
      "source": [
        "![picture](https://drive.google.com/uc?export=view&id=19z1twB3fF01EngtbEhRhJ2jNblvMMnlq)"
      ]
    }
  ]
}