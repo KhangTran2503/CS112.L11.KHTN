{
 "cells": [
  {
   "cell_type": "markdown",
   "metadata": {},
   "source": [
    "## **Problem:** [BOT](https://classroom.google.com/u/1/w/MTI3MjgxODMzMjAy/t/all)\n",
    "\n",
    "## **Tóm Tắt:** \n",
    "Tìm $p,q \\text{ }(1 \\le p \\le q \\le n)$ và $\\sum_{i=p}^{q}a_{i}$ sao cho $\\sum_{i=p}^{q}a_{i}$ lớn nhất. Nếu có nhiều cách chọn thì chọn $p$ nhỏ nhất.\n",
    "\n",
    "## **Ràng buộc:** \n",
    "- $1 \\le n \\le 10^{6}$\n",
    "- $0 \\le \\left\\lvert a_{i}\\right\\rvert \\le 10^{9},\\text{ } 1 \\le i \\le n$"
   ]
  },
  {
   "cell_type": "markdown",
   "metadata": {},
   "source": [
    "## **1. Thuật Toán $O(n^{3})$ :**\n",
    "\n",
    "### **+ Ý Tưởng:** \n"
   ]
  },
  {
   "cell_type": "markdown",
   "metadata": {},
   "source": [
    "### **+ Code:**"
   ]
  },
  {
   "cell_type": "code",
   "execution_count": 1,
   "metadata": {},
   "outputs": [],
   "source": [
    "'''\n",
    "    Function Maxsubarray return tuple (p,q,Maxsum)\n",
    "'''\n",
    "inf = 10000000000000000000\n",
    "def Maxsubarray(arr,n):\n",
    "    \n",
    "    # init Maxn = -inf\n",
    "    global inf\n",
    "    Maxsum = -inf\n",
    "    \n",
    "    for p in range(1,n):\n",
    "        for q in range(p + 1,n + 1):\n",
    "            # sum range in [p,q] \n",
    "            sumpq = 0\n",
    "            for k in range(p,q + 1):\n",
    "                sumpq += k\n",
    "            \n",
    "            # Update answer\n",
    "            if sumpq > Maxsum:\n",
    "                (ansp,ansq,Maxsum) = (p,q,sumpq)\n",
    "            elif sumpq == Maxsum:\n",
    "                if p < ansp:\n",
    "                    ansp = p\n",
    "                    ansq = q\n",
    "    \n",
    "    return (ansp,ansq,Maxsum)"
   ]
  },
  {
   "cell_type": "code",
   "execution_count": 6,
   "metadata": {},
   "outputs": [
    {
     "name": "stdout",
     "output_type": "stream",
     "text": [
      "5\n",
      "1 2 3 4 5\n",
      "[0, 1, 2, 3, 4, 5]\n"
     ]
    }
   ],
   "source": [
    "# Input\n",
    "n = int(input())\n",
    "a = [0 for _ in range(n + 1)]\n",
    "\n",
    "for (i,ai) in enumerate(map(int,input().split())):\n",
    "    a[i + 1] = ai\n",
    "    \n",
    "print(a)\n"
   ]
  }
 ],
 "metadata": {
  "kernelspec": {
   "display_name": "Python 3",
   "language": "python",
   "name": "python3"
  },
  "language_info": {
   "codemirror_mode": {
    "name": "ipython",
    "version": 3
   },
   "file_extension": ".py",
   "mimetype": "text/x-python",
   "name": "python",
   "nbconvert_exporter": "python",
   "pygments_lexer": "ipython3",
   "version": "3.6.9"
  }
 },
 "nbformat": 4,
 "nbformat_minor": 4
}
